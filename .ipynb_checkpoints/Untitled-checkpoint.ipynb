{
 "cells": [
  {
   "cell_type": "code",
   "execution_count": 1,
   "metadata": {},
   "outputs": [],
   "source": [
    "import pandas as pd\n",
    "import sqlite3\n",
    "\n",
    "def return_table(region,gender,generation,category):\n",
    "    #set up sqlite\n",
    "    connection = sqlite3.connect('flix.db')\n",
    "    \n",
    "    \n",
    "    #assemble query\n",
    "    option_count=0\n",
    "    if region=='all' or gender=='all' or generation=='all':\n",
    "        sql_query=\"select *, sum(cast(replace(view,',','') as integer)) as views from flix_shows\"\n",
    "    else:\n",
    "         sql_query=\"select *,cast(replace(view,',','') as integer) as views from flix_shows\"\n",
    "    \n",
    "    if region!='all' or gender!='all' or generation!='all' or category!='all':\n",
    "        sql_query=sql_query+\" where\"\n",
    "    \n",
    "    if region!='all': \n",
    "        sql_query=sql_query+f\" viewing_country='{region}'\"\n",
    "        option_count=1\n",
    "    if gender!='all':\n",
    "        if option_count>0: sql_query=sql_query+\" and\"\n",
    "        sql_query=sql_query+f\" gender='{gender}'\"\n",
    "        option_count=1\n",
    "    if generation!='all':\n",
    "        if option_count>0: sql_query=sql_query+\" and\"\n",
    "        sql_query=sql_query+f\" generation='{generation}'\"\n",
    "    if category!='all':\n",
    "        if option_count>0: sql_query=sql_query+\" and\"\n",
    "        sql_query=sql_query+f\" category='{category}'\"\n",
    "        \n",
    "    if region=='all' or gender=='all' or generation=='all':\n",
    "        sql_query=sql_query+\" group by title order by Views desc\"\n",
    "        \n",
    "    df=pd.read_sql_query(sql_query,connection)\n",
    "    \n",
    "    #this is working but need to have views add up on group by but I want to keep the comma as well\"\n",
    "    \n",
    "    return df "
   ]
  },
  {
   "cell_type": "code",
   "execution_count": null,
   "metadata": {},
   "outputs": [],
   "source": [
    "return_table('all','all','all','all')"
   ]
  }
 ],
 "metadata": {
  "kernelspec": {
   "display_name": "Python [conda env:PythonData] *",
   "language": "python",
   "name": "conda-env-PythonData-py"
  },
  "language_info": {
   "codemirror_mode": {
    "name": "ipython",
    "version": 3
   },
   "file_extension": ".py",
   "mimetype": "text/x-python",
   "name": "python",
   "nbconvert_exporter": "python",
   "pygments_lexer": "ipython3",
   "version": "3.6.10"
  }
 },
 "nbformat": 4,
 "nbformat_minor": 4
}
