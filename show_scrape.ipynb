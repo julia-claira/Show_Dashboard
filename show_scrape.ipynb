{
 "cells": [
  {
   "cell_type": "code",
   "execution_count": 265,
   "metadata": {},
   "outputs": [],
   "source": [
    "import pandas as pd\n",
    "from bs4 import BeautifulSoup\n",
    "from splinter import Browser\n",
    "from webdriver_manager.chrome import ChromeDriverManager\n",
    "import time\n",
    "import re\n",
    "import random\n",
    "from datetime import datetime\n",
    "import math\n",
    "import matplotlib.pyplot as plt\n",
    "from flask import jsonify"
   ]
  },
  {
   "cell_type": "code",
   "execution_count": 255,
   "metadata": {},
   "outputs": [
    {
     "name": "stderr",
     "output_type": "stream",
     "text": [
      "\n",
      "\n",
      "====== WebDriver manager ======\n",
      "Current google-chrome version is 98.0.4758\n",
      "Get LATEST driver version for 98.0.4758\n",
      "Driver [/Users/juliankauffmann/.wdm/drivers/chromedriver/mac64/98.0.4758.80/chromedriver] found in cache\n"
     ]
    }
   ],
   "source": [
    "#setup splinter\n",
    "executable_path= {'executable_path': ChromeDriverManager().install()}\n",
    "browser= Browser('chrome', **executable_path, headless=False)"
   ]
  },
  {
   "cell_type": "code",
   "execution_count": 18,
   "metadata": {},
   "outputs": [],
   "source": [
    "#####CREATE WEB-SCRAPING BOT##########"
   ]
  },
  {
   "cell_type": "code",
   "execution_count": 104,
   "metadata": {},
   "outputs": [],
   "source": [
    "#opens flix\n",
    "def open_flix(the_url):\n",
    "    browser.visit(the_url)"
   ]
  },
  {
   "cell_type": "code",
   "execution_count": 24,
   "metadata": {},
   "outputs": [],
   "source": [
    "#return updated html\n",
    "def get_updated_html():\n",
    "    thesoup = BeautifulSoup(browser.html, 'html.parser')\n",
    "\n",
    "    return thesoup"
   ]
  },
  {
   "cell_type": "code",
   "execution_count": 256,
   "metadata": {},
   "outputs": [],
   "source": [
    "the_url=\"https://flixpatrol.com/demographics/generation-z/\"\n",
    "open_flix(the_url)\n",
    "soup=get_updated_html()"
   ]
  },
  {
   "cell_type": "code",
   "execution_count": 257,
   "metadata": {},
   "outputs": [],
   "source": [
    "#get titles of top 100\n",
    "titles=[]\n",
    "\n",
    "temp_titles=the_html.find_all(\"div\", class_=\"group-hover:underline\")\n",
    "\n",
    "for title in temp_titles:\n",
    "    titles.append(title.text.split('\\n')[1].split('\\t')[9])\n",
    "    #print(title.text)\n",
    "\n",
    "#get views of top 100\n",
    "views=[]\n",
    "\n",
    "temp_views=the_html.find_all(\"td\", class_=\"table-td text-right text-gray-400 font-semibold tabular-nums\")\n",
    "\n",
    "for view in temp_views:\n",
    "    views.append(view.text)\n",
    "\n",
    "#get category of top 100\n",
    "categories=[]\n",
    "\n",
    "temp_cats=the_html.find_all(\"div\", class_=\"flex flex-wrap text-sm leading-6 text-gray-500\")\n",
    "\n",
    "for cat in temp_cats:\n",
    "    for c in cat.span:\n",
    "        categories.append(c)\n",
    "        \n",
    "#get country, premiere date, and genre info of top 100\n",
    "countries=[]\n",
    "premieres=[]\n",
    "genres=[]\n",
    "\n",
    "temp_infos=the_html.find_all(\"div\", class_=\"flex flex-wrap text-sm leading-6 text-gray-500\")\n",
    "\n",
    "for info in temp_infos:\n",
    "    temp_genre=\"\"\n",
    "    for i in range(0,len(info.text.split('\\n'))-1):\n",
    "        temp=info.text.split('\\n')[i]       \n",
    "        if i>6:\n",
    "            if (temp !=\"|\") and (temp !=\"\"):\n",
    "                temp_genre=temp_genre+'|'+temp            \n",
    "    \n",
    "    genres.append(temp_genre)\n",
    "    premieres.append(info.text.split('\\n')[5])\n",
    "    countries.append(info.text.split('\\n')[3])\n",
    "    "
   ]
  },
  {
   "cell_type": "code",
   "execution_count": 261,
   "metadata": {},
   "outputs": [],
   "source": [
    "flix_feb12_genZ=pd.DataFrame({\"title\":titles,\"view\":views,\"category\":categories,\n",
    "                         \"country\":countries,\"premiere\":premieres, \"genre\":genres})"
   ]
  },
  {
   "cell_type": "code",
   "execution_count": 262,
   "metadata": {},
   "outputs": [
    {
     "data": {
      "text/html": [
       "<div>\n",
       "<style scoped>\n",
       "    .dataframe tbody tr th:only-of-type {\n",
       "        vertical-align: middle;\n",
       "    }\n",
       "\n",
       "    .dataframe tbody tr th {\n",
       "        vertical-align: top;\n",
       "    }\n",
       "\n",
       "    .dataframe thead th {\n",
       "        text-align: right;\n",
       "    }\n",
       "</style>\n",
       "<table border=\"1\" class=\"dataframe\">\n",
       "  <thead>\n",
       "    <tr style=\"text-align: right;\">\n",
       "      <th></th>\n",
       "      <th>title</th>\n",
       "      <th>view</th>\n",
       "      <th>category</th>\n",
       "      <th>country</th>\n",
       "      <th>premiere</th>\n",
       "      <th>genre</th>\n",
       "    </tr>\n",
       "  </thead>\n",
       "  <tbody>\n",
       "    <tr>\n",
       "      <th>0</th>\n",
       "      <td>Friends</td>\n",
       "      <td>78,199,300</td>\n",
       "      <td>TV Show</td>\n",
       "      <td>United States</td>\n",
       "      <td>09/22/1994</td>\n",
       "      <td>|Comedy|Sitcom</td>\n",
       "    </tr>\n",
       "    <tr>\n",
       "      <th>1</th>\n",
       "      <td>Supernatural</td>\n",
       "      <td>20,568,700</td>\n",
       "      <td>TV Show</td>\n",
       "      <td>United States</td>\n",
       "      <td>09/13/2005</td>\n",
       "      <td>|Fantasy|Supernatural</td>\n",
       "    </tr>\n",
       "    <tr>\n",
       "      <th>2</th>\n",
       "      <td>Tom and Jerry</td>\n",
       "      <td>17,723,400</td>\n",
       "      <td>TV Show</td>\n",
       "      <td>United States</td>\n",
       "      <td>02/10/1940</td>\n",
       "      <td>|Animation|For Older Kids</td>\n",
       "    </tr>\n",
       "    <tr>\n",
       "      <th>3</th>\n",
       "      <td>Game of Thrones</td>\n",
       "      <td>15,103,500</td>\n",
       "      <td>TV Show</td>\n",
       "      <td>United States</td>\n",
       "      <td>04/17/2011</td>\n",
       "      <td>| HBO|Fantasy|Dragons</td>\n",
       "    </tr>\n",
       "    <tr>\n",
       "      <th>4</th>\n",
       "      <td>The Simpsons</td>\n",
       "      <td>14,288,200</td>\n",
       "      <td>TV Show</td>\n",
       "      <td>United States</td>\n",
       "      <td>12/17/1989</td>\n",
       "      <td>|Animation|Adult Animation</td>\n",
       "    </tr>\n",
       "    <tr>\n",
       "      <th>...</th>\n",
       "      <td>...</td>\n",
       "      <td>...</td>\n",
       "      <td>...</td>\n",
       "      <td>...</td>\n",
       "      <td>...</td>\n",
       "      <td>...</td>\n",
       "    </tr>\n",
       "    <tr>\n",
       "      <th>455</th>\n",
       "      <td>Best Exotic Marigold Hotel</td>\n",
       "      <td>8,000</td>\n",
       "      <td>Franchise</td>\n",
       "      <td>United States</td>\n",
       "      <td>2011 – 2015</td>\n",
       "      <td>|Comedy</td>\n",
       "    </tr>\n",
       "    <tr>\n",
       "      <th>456</th>\n",
       "      <td>All the King's Men</td>\n",
       "      <td>7,000</td>\n",
       "      <td>Movie</td>\n",
       "      <td>United States</td>\n",
       "      <td>09/10/2006</td>\n",
       "      <td>|Drama</td>\n",
       "    </tr>\n",
       "    <tr>\n",
       "      <th>457</th>\n",
       "      <td>The Constant Gardener</td>\n",
       "      <td>6,000</td>\n",
       "      <td>Movie</td>\n",
       "      <td>United Kingdom</td>\n",
       "      <td>08/31/2005</td>\n",
       "      <td>|Thriller|Crime Drama</td>\n",
       "    </tr>\n",
       "    <tr>\n",
       "      <th>458</th>\n",
       "      <td>Star Trek: Alternate Reality</td>\n",
       "      <td>4,600</td>\n",
       "      <td>Franchise</td>\n",
       "      <td>United States</td>\n",
       "      <td>2009 – 2016</td>\n",
       "      <td>|Science Fiction|Space opera</td>\n",
       "    </tr>\n",
       "    <tr>\n",
       "      <th>459</th>\n",
       "      <td>Into the Woods</td>\n",
       "      <td>0</td>\n",
       "      <td>Movie</td>\n",
       "      <td>United States</td>\n",
       "      <td>12/25/2014</td>\n",
       "      <td>|Fantasy|Witch</td>\n",
       "    </tr>\n",
       "  </tbody>\n",
       "</table>\n",
       "<p>460 rows × 6 columns</p>\n",
       "</div>"
      ],
      "text/plain": [
       "                            title        view   category         country  \\\n",
       "0                         Friends  78,199,300    TV Show   United States   \n",
       "1                    Supernatural  20,568,700    TV Show   United States   \n",
       "2                   Tom and Jerry  17,723,400    TV Show   United States   \n",
       "3                 Game of Thrones  15,103,500    TV Show   United States   \n",
       "4                    The Simpsons  14,288,200    TV Show   United States   \n",
       "..                            ...         ...        ...             ...   \n",
       "455    Best Exotic Marigold Hotel       8,000  Franchise   United States   \n",
       "456            All the King's Men       7,000      Movie   United States   \n",
       "457         The Constant Gardener       6,000      Movie  United Kingdom   \n",
       "458  Star Trek: Alternate Reality       4,600  Franchise   United States   \n",
       "459                Into the Woods           0      Movie   United States   \n",
       "\n",
       "        premiere                         genre  \n",
       "0     09/22/1994                |Comedy|Sitcom  \n",
       "1     09/13/2005         |Fantasy|Supernatural  \n",
       "2     02/10/1940     |Animation|For Older Kids  \n",
       "3     04/17/2011         | HBO|Fantasy|Dragons  \n",
       "4     12/17/1989    |Animation|Adult Animation  \n",
       "..           ...                           ...  \n",
       "455  2011 – 2015                       |Comedy  \n",
       "456   09/10/2006                        |Drama  \n",
       "457   08/31/2005         |Thriller|Crime Drama  \n",
       "458  2009 – 2016  |Science Fiction|Space opera  \n",
       "459   12/25/2014                |Fantasy|Witch  \n",
       "\n",
       "[460 rows x 6 columns]"
      ]
     },
     "execution_count": 262,
     "metadata": {},
     "output_type": "execute_result"
    }
   ],
   "source": [
    "flix_feb12_genZ"
   ]
  },
  {
   "cell_type": "code",
   "execution_count": 268,
   "metadata": {},
   "outputs": [
    {
     "data": {
      "text/plain": [
       "'{\"title\":{\"0\":\"Friends\",\"1\":\"Supernatural\",\"2\":\"Tom and Jerry\",\"3\":\"Game of Thrones\",\"4\":\"The Simpsons\",\"5\":\"Vikings\",\"6\":\"Buffy the Vampire Slayer\",\"7\":\"Mr. Robot\",\"8\":\"Stranger Things\",\"9\":\"Rio\",\"10\":\"Bones\",\"11\":\"Grey\\'s Anatomy\",\"12\":\"Breaking Bad\",\"13\":\"Rick and Morty\",\"14\":\"Arrow\",\"15\":\"The Witcher\",\"16\":\"Tangled\",\"17\":\"The Big Bang Theory\",\"18\":\"Lucifer\",\"19\":\"The Vampire Diaries\",\"20\":\"13 Reasons Why\",\"21\":\"Pretty Little Liars\",\"22\":\"Gossip Girl\",\"23\":\"South Park\",\"24\":\"Family Guy\",\"25\":\"The 100\",\"26\":\"American Horror Story\",\"27\":\"Mulan\",\"28\":\"How I Met Your Mother\",\"29\":\"American Dad!\",\"30\":\"Doctor Who\",\"31\":\"Glee\",\"32\":\"Once Upon a Time\",\"33\":\"Peaky Blinders\",\"34\":\"Adventure Time\",\"35\":\"Dexter\",\"36\":\"Riverdale\",\"37\":\"Sherlock\",\"38\":\"Sex and the City\",\"39\":\"Star Wars: The Clone Wars\",\"40\":\"The Originals\",\"41\":\"Frozen\",\"42\":\"Orange Is the New Black\",\"43\":\"The Flash\",\"44\":\"Futurama\",\"45\":\"Harry Potter\",\"46\":\"Prison Break\",\"47\":\"Twilight\",\"48\":\"Star Wars\",\"49\":\"Black Mirror\",\"50\":\"The Fresh Prince of Bel-Air\",\"51\":\"Shameless\",\"52\":\"Modern Family\",\"53\":\"The Crown\",\"54\":\"Archer\",\"55\":\"Mr. Bean\",\"56\":\"Alias\",\"57\":\"Married... with Children\",\"58\":\"Parks and Recreation\",\"59\":\"Blade\",\"60\":\"The Fault in Our Stars\",\"61\":\"Barbie\",\"62\":\"Gravity\",\"63\":\"Dark Knight\",\"64\":\"Firefly\",\"65\":\"Gilmore Girls\",\"66\":\"Brooklyn Nine-Nine\",\"67\":\"Desperate Housewives\",\"68\":\"The Office\",\"69\":\"Gotham\",\"70\":\"Se7en\",\"71\":\"SpongeBob\",\"72\":\"Aladdin\",\"73\":\"House of Cards\",\"74\":\"Superman\",\"75\":\"The Simpsons\",\"76\":\"Pok\\\\u00e9mon\",\"77\":\"Sons of Anarchy\",\"78\":\"Criminal Minds\",\"79\":\"The X-Files\",\"80\":\"Wonder Woman\",\"81\":\"Ready Player One\",\"82\":\"Iron Man\",\"83\":\"NCIS\",\"84\":\"Two and a Half Men\",\"85\":\"Interstellar\",\"86\":\"The Wire\",\"87\":\"Outlander\",\"88\":\"Smallville\",\"89\":\"The Dark Knight\",\"90\":\"Westworld\",\"91\":\"Outer Banks\",\"92\":\"Mickey Mouse\",\"93\":\"The Passion of the Christ\",\"94\":\"Damages\",\"95\":\"Shazam!\",\"96\":\"24\",\"97\":\"Narcos\",\"98\":\"Forrest Gump\",\"99\":\"Fast and Furious\",\"100\":\"The Blacklist\",\"101\":\"The Sopranos\",\"102\":\"Chernobyl\",\"103\":\"Saw\",\"104\":\"Supergirl\",\"105\":\"Alien\",\"106\":\"Better Call Saul\",\"107\":\"Scandal\",\"108\":\"The Day After Tomorrow\",\"109\":\"The Handmaid\\'s Tale\",\"110\":\"Ratatouille\",\"111\":\"True Detective\",\"112\":\"Bohemian Rhapsody\",\"113\":\"Alice in Wonderland\",\"114\":\"Grimm\",\"115\":\"Deadpool\",\"116\":\"Madagascar\",\"117\":\"Agents of S.H.I.E.L.D.\",\"118\":\"This Is Us\",\"119\":\"Downton Abbey\",\"120\":\"The West Wing\",\"121\":\"Zootopia\",\"122\":\"Scream\",\"123\":\"Inside Out\",\"124\":\"Godfather\",\"125\":\"Hannibal\",\"126\":\"Step Up\",\"127\":\"Phineas and Ferb\",\"128\":\"Minions\",\"129\":\"The Lion King\",\"130\":\"Mad Men\",\"131\":\"Schitt\\'s Creek\",\"132\":\"Rocky\",\"133\":\"Seinfeld\",\"134\":\"Friday the 13th\",\"135\":\"His Dark Materials\",\"136\":\"Zodiac\",\"137\":\"WALL-E\",\"138\":\"Homeland\",\"139\":\"Thor\",\"140\":\"Transformers\",\"141\":\"The Newsroom\",\"142\":\"Smurfs\",\"143\":\"Lord of the Rings\",\"144\":\"Mamma Mia!\",\"145\":\"The Event\",\"146\":\"Despicable Me\",\"147\":\"Veep\",\"148\":\"The Mentalist\",\"149\":\"Spider-Man (Original)\",\"150\":\"Scrubs\",\"151\":\"James Bond\",\"152\":\"Captain America\",\"153\":\"Matrix\",\"154\":\"Scream Queens\",\"155\":\"12 Years a Slave\",\"156\":\"Little Mermaid\",\"157\":\"Banshee\",\"158\":\"CSI: Miami\",\"159\":\"Hancock\",\"160\":\"Book Club\",\"161\":\"Twin Peaks\",\"162\":\"Scooby-Doo\",\"163\":\"Fantastic Four\",\"164\":\"True Blood\",\"165\":\"The Wonder Years\",\"166\":\"Venom\",\"167\":\"Big Hero 6\",\"168\":\"Angry Birds\",\"169\":\"Street Fighter\",\"170\":\"Luther\",\"171\":\"I Am Legend\",\"172\":\"World War Z\",\"173\":\"Mortal Kombat\",\"174\":\"Misfits\",\"175\":\"Bad Boys\",\"176\":\"Avengers\",\"177\":\"The Jungle Book\",\"178\":\"Suicide Squad\",\"179\":\"Finding Nemo\",\"180\":\"Casper\",\"181\":\"Tinker Bell\",\"182\":\"Dunkirk\",\"183\":\"Alice in Wonderland\",\"184\":\"Men In Black\",\"185\":\"Sonic The Hedgehog\",\"186\":\"Guardians of the Galaxy\",\"187\":\"The Sixth Sense\",\"188\":\"Karate Kid\",\"189\":\"Avatar\",\"190\":\"Shrek\",\"191\":\"Home Alone\",\"192\":\"Winnie the Pooh\",\"193\":\"Paw Patrol\",\"194\":\"Fantastic Beasts\",\"195\":\"Maleficent\",\"196\":\"Godzilla\",\"197\":\"ER\",\"198\":\"Pink Panther\",\"199\":\"Armageddon\",\"200\":\"Snowpiercer\",\"201\":\"Training Day\",\"202\":\"The Devil Wears Prada\",\"203\":\"Red Dwarf\",\"204\":\"E.T. the Extra-Terrestrial\",\"205\":\"Six Feet Under\",\"206\":\"Toy Story\",\"207\":\"Aquaman\",\"208\":\"American Sniper\",\"209\":\"Jurassic Park\",\"210\":\"48 Hrs.\",\"211\":\"The Martian\",\"212\":\"New Girl\",\"213\":\"Van Helsing\",\"214\":\"Resident Evil\",\"215\":\"Sex and the City\",\"216\":\"Ant-Man\",\"217\":\"Mission Impossible\",\"218\":\"Deception\",\"219\":\"My Little Pony\",\"220\":\"Zombieland\",\"221\":\"Blue Bloods\",\"222\":\"Hulk\",\"223\":\"Kill Bill\",\"224\":\"High School Musical\",\"225\":\"The Silence of the Lambs\",\"226\":\"Beauty and the Beast\",\"227\":\"2012\",\"228\":\"Hobbit\",\"229\":\"Predator\",\"230\":\"The Last Kingdom\",\"231\":\"Inglourious Basterds\",\"232\":\"Mad Max\",\"233\":\"The Revenant\",\"234\":\"Bosch\",\"235\":\"Shaun The Sheep\",\"236\":\"Kung Fu Panda\",\"237\":\"CSI: NY\",\"238\":\"Wish I Was Here\",\"239\":\"Life of Pi\",\"240\":\"Monsters, Inc.\",\"241\":\"Incredibles\",\"242\":\"The Mummy\",\"243\":\"Constantine\",\"244\":\"Danny Ocean\",\"245\":\"Lego Ninjago\",\"246\":\"Saving Private Ryan\",\"247\":\"Silicon Valley\",\"248\":\"Blade Runner\",\"249\":\"Band of Brothers\",\"250\":\"Monsters vs Aliens\",\"251\":\"Columbo\",\"252\":\"Paranormal Activity\",\"253\":\"Ghostbusters\",\"254\":\"We\\'re the Millers\",\"255\":\"Garfield\",\"256\":\"The Leftovers\",\"257\":\"Raised by Wolves\",\"258\":\"The Bridge\",\"259\":\"X-Men\",\"260\":\"Wolverine\",\"261\":\"Oz\",\"262\":\"Monty Python\",\"263\":\"Conjuring\",\"264\":\"Terminator\",\"265\":\"The X-Files\",\"266\":\"Nikita\",\"267\":\"Battlestar Galactica\",\"268\":\"Jumanji\",\"269\":\"It\\'s Complicated\",\"270\":\"Rambo\",\"271\":\"TRON\",\"272\":\"Expendables\",\"273\":\"Broadchurch\",\"274\":\"Grace and Frankie\",\"275\":\"The LEGO Movie\",\"276\":\"Final Destination\",\"277\":\"Marco Polo\",\"278\":\"Sin City\",\"279\":\"King Kong\",\"280\":\"A Nightmare on Elm Street\",\"281\":\"Quiet Place\",\"282\":\"Sherlock Holmes\",\"283\":\"Mean Girls\",\"284\":\"Insidious\",\"285\":\"Dirty Dancing\",\"286\":\"The Wizard of Oz\",\"287\":\"Teenage Mutant Ninja Turtles (Remake)\",\"288\":\"Back to the Future\",\"289\":\"Peter Pan\",\"290\":\"Legally Blonde\",\"291\":\"Pitch Perfect\",\"292\":\"Tomb Raider\",\"293\":\"Pocahontas\",\"294\":\"Scary Movie\",\"295\":\"Percy Jackson\",\"296\":\"Ice Age\",\"297\":\"Batman\",\"298\":\"American Pie\",\"299\":\"Wreck-It Ralph\",\"300\":\"Croods\",\"301\":\"August Rush\",\"302\":\"Addams Family\",\"303\":\"Hotel Transylvania\",\"304\":\"Ride Along\",\"305\":\"Divergent\",\"306\":\"Johnny English\",\"307\":\"Top Gun\",\"308\":\"Happy Feet\",\"309\":\"Maze Runner\",\"310\":\"Flintstones\",\"311\":\"Underworld\",\"312\":\"Hellboy\",\"313\":\"G.I. Joe\",\"314\":\"Alvin and the Chipmunks\",\"315\":\"Purge\",\"316\":\"The Reader\",\"317\":\"Hell on Wheels\",\"318\":\"How to Train Your Dragon\",\"319\":\"RoboCop\",\"320\":\"Phineas and Ferb\",\"321\":\"Kingsman\",\"322\":\"Wallace & Gromit\",\"323\":\"Asterix & Obelix\",\"324\":\"Michael Clayton\",\"325\":\"300\",\"326\":\"Die Hard\",\"327\":\"Mary Poppins\",\"328\":\"Edward Scissorhands\",\"329\":\"Stargate\",\"330\":\"The Chronicles of Narnia\",\"331\":\"The Scorpion King\",\"332\":\"Ghost Rider\",\"333\":\"Hannibal Lecter\",\"334\":\"Hunger Games\",\"335\":\"Grown Ups\",\"336\":\"Rush Hour\",\"337\":\"Poltergeist\",\"338\":\"Exorcist\",\"339\":\"Bridget Jones\",\"340\":\"Clash of the Titans\",\"341\":\"Hercule Poirot\",\"342\":\"Hellboy\",\"343\":\"The Emperor\\'s New Groove\",\"344\":\"Miss Congeniality\",\"345\":\"Paddington\",\"346\":\"Charlie\\'s Angels\",\"347\":\"Peter Rabbit\",\"348\":\"13 Going On 30\",\"349\":\"Now You See Me\",\"350\":\"Taken\",\"351\":\"Conan\",\"352\":\"Jack Reacher\",\"353\":\"Fockers\",\"354\":\"Austin Powers\",\"355\":\"Lethal Weapon\",\"356\":\"The Hunchback of Notre Dame\",\"357\":\"Basic Instinct\",\"358\":\"Riddick\",\"359\":\"Neighbors\",\"360\":\"Cloverfield\",\"361\":\"National Treasure\",\"362\":\"The Magnificent Seven\",\"363\":\"Beverly Hills Cop\",\"364\":\"Silent Hill\",\"365\":\"Fifty Shades\",\"366\":\"I Know What You Did Last Summer\",\"367\":\"Olympus Has Fallen\",\"368\":\"Starship Troopers\",\"369\":\"Crouching Tiger, Hidden Dragon\",\"370\":\"Night at the Museum\",\"371\":\"Planet of the Apes\",\"372\":\"Inspector Gadget\",\"373\":\"National Lampoon\",\"374\":\"The Grudge\",\"375\":\"Ace Ventura\",\"376\":\"Spy Kids\",\"377\":\"Indiana Jones\",\"378\":\"Free Willy\",\"379\":\"Dolittle\",\"380\":\"101 Dalmatians\",\"381\":\"Alex Cross\",\"382\":\"Jack Ryan\",\"383\":\"Princess Diaries\",\"384\":\"Ouija\",\"385\":\"My Big Fat Greek Wedding\",\"386\":\"Sister Act\",\"387\":\"Blair Witch\",\"388\":\"Pet Sematary\",\"389\":\"Escape Plan\",\"390\":\"Jason Bourne\",\"391\":\"Look Who\\'s Talking\",\"392\":\"Cloudy with a Chance of Meatballs\",\"393\":\"Brother Bear\",\"394\":\"Hellraiser\",\"395\":\"The Neverending Story\",\"396\":\"Horrible Bosses\",\"397\":\"Wayne\\'s World\",\"398\":\"Pirates of the Caribbean\",\"399\":\"Magic Mike\",\"400\":\"Stuart Little\",\"401\":\"Pacific Rim\",\"402\":\"The Pianist\",\"403\":\"Lie to Me\",\"404\":\"Labyrinth\",\"405\":\"Disclosure\",\"406\":\"Wilfred\",\"407\":\"Bloodline\",\"408\":\"Gone Girl\",\"409\":\"Suspiria\",\"410\":\"Life as We Know It\",\"411\":\"Weeds\",\"412\":\"The Americans\",\"413\":\"Aquarius\",\"414\":\"Spartacus\",\"415\":\"The Tudors\",\"416\":\"Dead Poets Society\",\"417\":\"Brazil\",\"418\":\"Sleepy Hollow\",\"419\":\"Ugly Betty\",\"420\":\"The Borgias\",\"421\":\"Unbroken\",\"422\":\"August: Osage County\",\"423\":\"Halt and Catch Fire\",\"424\":\"Reign\",\"425\":\"The Village\",\"426\":\"Crimson Peak\",\"427\":\"Life Is Beautiful\",\"428\":\"The English Patient\",\"429\":\"The Book Thief\",\"430\":\"Schindler\\'s List\",\"431\":\"Hannah Arendt\",\"432\":\"If I Stay\",\"433\":\"Death Comes to Pemberley\",\"434\":\"Gentleman Jack\",\"435\":\"Calendar Girls\",\"436\":\"The Night Of\",\"437\":\"The Missing\",\"438\":\"Mozart in the Jungle\",\"439\":\"Wolf Hall\",\"440\":\"Justified\",\"441\":\"The Man in the High Castle\",\"442\":\"Frost\\\\/Nixon\",\"443\":\"The Theory of Everything\",\"444\":\"The Talented Mr. Ripley\",\"445\":\"Chicago\",\"446\":\"Monster\",\"447\":\"Hotel Rwanda\",\"448\":\"Still Alice\",\"449\":\"Straw Dogs\",\"450\":\"All the President\\'s Men\",\"451\":\"Fatal Attraction\",\"452\":\"JFK\",\"453\":\"The First Wives Club\",\"454\":\"Gone Baby Gone\",\"455\":\"Best Exotic Marigold Hotel\",\"456\":\"All the King\\'s Men\",\"457\":\"The Constant Gardener\",\"458\":\"Star Trek: Alternate Reality\",\"459\":\"Into the Woods\"},\"view\":{\"0\":\"78,199,300\",\"1\":\"20,568,700\",\"2\":\"17,723,400\",\"3\":\"15,103,500\",\"4\":\"14,288,200\",\"5\":\"11,246,200\",\"6\":\"10,604,600\",\"7\":\"9,900,000\",\"8\":\"9,714,900\",\"9\":\"8,876,900\",\"10\":\"8,333,900\",\"11\":\"8,269,200\",\"12\":\"7,268,000\",\"13\":\"7,128,200\",\"14\":\"6,920,100\",\"15\":\"5,655,000\",\"16\":\"5,578,900\",\"17\":\"5,556,000\",\"18\":\"5,459,300\",\"19\":\"4,637,900\",\"20\":\"4,565,800\",\"21\":\"4,514,000\",\"22\":\"4,502,700\",\"23\":\"4,364,300\",\"24\":\"4,354,900\",\"25\":\"4,323,500\",\"26\":\"3,617,700\",\"27\":\"3,593,100\",\"28\":\"3,293,100\",\"29\":\"3,184,500\",\"30\":\"3,116,300\",\"31\":\"3,102,300\",\"32\":\"3,039,400\",\"33\":\"3,030,800\",\"34\":\"3,011,600\",\"35\":\"2,981,500\",\"36\":\"2,872,400\",\"37\":\"2,837,000\",\"38\":\"2,813,500\",\"39\":\"2,808,600\",\"40\":\"2,664,800\",\"41\":\"2,644,600\",\"42\":\"2,617,000\",\"43\":\"2,592,700\",\"44\":\"2,591,600\",\"45\":\"2,511,000\",\"46\":\"2,445,000\",\"47\":\"2,298,300\",\"48\":\"2,277,000\",\"49\":\"2,230,400\",\"50\":\"2,138,900\",\"51\":\"2,091,200\",\"52\":\"2,044,900\",\"53\":\"2,017,900\",\"54\":\"1,889,800\",\"55\":\"1,882,200\",\"56\":\"1,839,700\",\"57\":\"1,819,000\",\"58\":\"1,814,200\",\"59\":\"1,796,200\",\"60\":\"1,733,900\",\"61\":\"1,693,100\",\"62\":\"1,678,100\",\"63\":\"1,658,000\",\"64\":\"1,616,000\",\"65\":\"1,613,600\",\"66\":\"1,579,400\",\"67\":\"1,453,000\",\"68\":\"1,437,600\",\"69\":\"1,430,700\",\"70\":\"1,337,000\",\"71\":\"1,280,500\",\"72\":\"1,268,500\",\"73\":\"1,248,700\",\"74\":\"1,235,000\",\"75\":\"1,202,000\",\"76\":\"1,197,500\",\"77\":\"1,190,300\",\"78\":\"1,132,300\",\"79\":\"1,109,300\",\"80\":\"1,103,000\",\"81\":\"1,089,900\",\"82\":\"1,081,100\",\"83\":\"1,003,200\",\"84\":\"999,500\",\"85\":\"983,600\",\"86\":\"970,100\",\"87\":\"937,700\",\"88\":\"933,800\",\"89\":\"933,100\",\"90\":\"932,400\",\"91\":\"927,700\",\"92\":\"901,100\",\"93\":\"897,900\",\"94\":\"896,500\",\"95\":\"891,000\",\"96\":\"871,500\",\"97\":\"862,500\",\"98\":\"862,400\",\"99\":\"858,500\",\"100\":\"856,100\",\"101\":\"853,900\",\"102\":\"829,400\",\"103\":\"825,400\",\"104\":\"781,100\",\"105\":\"761,300\",\"106\":\"749,500\",\"107\":\"735,400\",\"108\":\"735,000\",\"109\":\"731,200\",\"110\":\"729,800\",\"111\":\"719,800\",\"112\":\"713,500\",\"113\":\"685,200\",\"114\":\"658,500\",\"115\":\"640,000\",\"116\":\"634,400\",\"117\":\"629,700\",\"118\":\"626,500\",\"119\":\"626,200\",\"120\":\"604,100\",\"121\":\"592,900\",\"122\":\"592,900\",\"123\":\"583,300\",\"124\":\"578,500\",\"125\":\"571,100\",\"126\":\"550,600\",\"127\":\"531,600\",\"128\":\"529,500\",\"129\":\"510,000\",\"130\":\"487,900\",\"131\":\"478,600\",\"132\":\"467,000\",\"133\":\"455,000\",\"134\":\"455,000\",\"135\":\"421,400\",\"136\":\"414,300\",\"137\":\"412,200\",\"138\":\"411,300\",\"139\":\"401,900\",\"140\":\"390,100\",\"141\":\"383,900\",\"142\":\"377,700\",\"143\":\"370,300\",\"144\":\"369,100\",\"145\":\"364,600\",\"146\":\"359,300\",\"147\":\"355,700\",\"148\":\"352,500\",\"149\":\"335,300\",\"150\":\"330,100\",\"151\":\"319,200\",\"152\":\"318,200\",\"153\":\"310,100\",\"154\":\"308,600\",\"155\":\"301,300\",\"156\":\"296,800\",\"157\":\"294,000\",\"158\":\"291,800\",\"159\":\"287,600\",\"160\":\"284,000\",\"161\":\"281,800\",\"162\":\"278,200\",\"163\":\"276,300\",\"164\":\"275,900\",\"165\":\"271,100\",\"166\":\"265,300\",\"167\":\"249,300\",\"168\":\"243,300\",\"169\":\"243,100\",\"170\":\"238,800\",\"171\":\"237,900\",\"172\":\"235,100\",\"173\":\"232,600\",\"174\":\"232,300\",\"175\":\"228,400\",\"176\":\"228,400\",\"177\":\"223,400\",\"178\":\"220,200\",\"179\":\"218,400\",\"180\":\"214,700\",\"181\":\"207,800\",\"182\":\"207,700\",\"183\":\"202,100\",\"184\":\"200,900\",\"185\":\"199,900\",\"186\":\"188,600\",\"187\":\"186,400\",\"188\":\"185,700\",\"189\":\"185,100\",\"190\":\"185,000\",\"191\":\"184,600\",\"192\":\"183,500\",\"193\":\"182,100\",\"194\":\"176,300\",\"195\":\"175,000\",\"196\":\"172,000\",\"197\":\"171,600\",\"198\":\"170,000\",\"199\":\"168,500\",\"200\":\"167,400\",\"201\":\"166,700\",\"202\":\"164,700\",\"203\":\"162,400\",\"204\":\"160,500\",\"205\":\"160,100\",\"206\":\"158,900\",\"207\":\"156,800\",\"208\":\"154,900\",\"209\":\"150,200\",\"210\":\"149,000\",\"211\":\"148,200\",\"212\":\"146,700\",\"213\":\"143,500\",\"214\":\"143,500\",\"215\":\"141,600\",\"216\":\"141,100\",\"217\":\"138,900\",\"218\":\"132,900\",\"219\":\"132,300\",\"220\":\"126,400\",\"221\":\"122,600\",\"222\":\"122,400\",\"223\":\"121,900\",\"224\":\"119,100\",\"225\":\"118,800\",\"226\":\"118,800\",\"227\":\"116,500\",\"228\":\"115,400\",\"229\":\"114,600\",\"230\":\"107,900\",\"231\":\"106,000\",\"232\":\"104,500\",\"233\":\"103,000\",\"234\":\"102,200\",\"235\":\"99,300\",\"236\":\"99,100\",\"237\":\"98,700\",\"238\":\"98,600\",\"239\":\"96,600\",\"240\":\"96,000\",\"241\":\"94,700\",\"242\":\"94,400\",\"243\":\"94,300\",\"244\":\"93,400\",\"245\":\"92,900\",\"246\":\"91,000\",\"247\":\"90,000\",\"248\":\"89,700\",\"249\":\"89,500\",\"250\":\"89,400\",\"251\":\"89,000\",\"252\":\"88,800\",\"253\":\"86,500\",\"254\":\"86,200\",\"255\":\"85,700\",\"256\":\"83,800\",\"257\":\"83,400\",\"258\":\"82,000\",\"259\":\"81,600\",\"260\":\"80,100\",\"261\":\"78,200\",\"262\":\"78,100\",\"263\":\"74,800\",\"264\":\"72,100\",\"265\":\"69,300\",\"266\":\"68,800\",\"267\":\"68,500\",\"268\":\"68,300\",\"269\":\"68,100\",\"270\":\"66,400\",\"271\":\"65,800\",\"272\":\"64,200\",\"273\":\"64,100\",\"274\":\"63,200\",\"275\":\"62,600\",\"276\":\"62,000\",\"277\":\"61,700\",\"278\":\"61,200\",\"279\":\"61,200\",\"280\":\"60,800\",\"281\":\"57,300\",\"282\":\"57,200\",\"283\":\"57,000\",\"284\":\"56,300\",\"285\":\"55,600\",\"286\":\"54,200\",\"287\":\"53,500\",\"288\":\"53,400\",\"289\":\"52,300\",\"290\":\"52,000\",\"291\":\"52,000\",\"292\":\"51,600\",\"293\":\"51,400\",\"294\":\"51,400\",\"295\":\"51,300\",\"296\":\"51,200\",\"297\":\"50,400\",\"298\":\"50,300\",\"299\":\"49,800\",\"300\":\"49,200\",\"301\":\"47,300\",\"302\":\"47,300\",\"303\":\"47,100\",\"304\":\"44,900\",\"305\":\"44,700\",\"306\":\"44,500\",\"307\":\"44,500\",\"308\":\"44,000\",\"309\":\"43,400\",\"310\":\"43,400\",\"311\":\"43,200\",\"312\":\"43,100\",\"313\":\"43,100\",\"314\":\"42,800\",\"315\":\"42,700\",\"316\":\"42,600\",\"317\":\"42,500\",\"318\":\"42,300\",\"319\":\"42,100\",\"320\":\"41,100\",\"321\":\"40,900\",\"322\":\"40,800\",\"323\":\"40,600\",\"324\":\"40,300\",\"325\":\"39,500\",\"326\":\"39,300\",\"327\":\"39,200\",\"328\":\"39,000\",\"329\":\"38,900\",\"330\":\"38,500\",\"331\":\"37,900\",\"332\":\"37,600\",\"333\":\"37,600\",\"334\":\"37,400\",\"335\":\"37,300\",\"336\":\"36,800\",\"337\":\"36,100\",\"338\":\"36,000\",\"339\":\"35,900\",\"340\":\"35,700\",\"341\":\"35,100\",\"342\":\"34,900\",\"343\":\"34,900\",\"344\":\"34,900\",\"345\":\"34,900\",\"346\":\"34,600\",\"347\":\"34,600\",\"348\":\"34,500\",\"349\":\"34,400\",\"350\":\"34,300\",\"351\":\"34,200\",\"352\":\"34,200\",\"353\":\"34,000\",\"354\":\"34,000\",\"355\":\"34,000\",\"356\":\"34,000\",\"357\":\"34,000\",\"358\":\"34,000\",\"359\":\"34,000\",\"360\":\"34,000\",\"361\":\"34,000\",\"362\":\"34,000\",\"363\":\"34,000\",\"364\":\"34,000\",\"365\":\"34,000\",\"366\":\"34,000\",\"367\":\"34,000\",\"368\":\"34,000\",\"369\":\"34,000\",\"370\":\"34,000\",\"371\":\"34,000\",\"372\":\"34,000\",\"373\":\"34,000\",\"374\":\"34,000\",\"375\":\"34,000\",\"376\":\"34,000\",\"377\":\"34,000\",\"378\":\"34,000\",\"379\":\"34,000\",\"380\":\"34,000\",\"381\":\"34,000\",\"382\":\"34,000\",\"383\":\"34,000\",\"384\":\"34,000\",\"385\":\"34,000\",\"386\":\"34,000\",\"387\":\"34,000\",\"388\":\"34,000\",\"389\":\"34,000\",\"390\":\"34,000\",\"391\":\"34,000\",\"392\":\"34,000\",\"393\":\"34,000\",\"394\":\"34,000\",\"395\":\"34,000\",\"396\":\"34,000\",\"397\":\"34,000\",\"398\":\"33,000\",\"399\":\"32,000\",\"400\":\"32,000\",\"401\":\"32,000\",\"402\":\"29,100\",\"403\":\"28,900\",\"404\":\"28,600\",\"405\":\"28,200\",\"406\":\"27,400\",\"407\":\"25,900\",\"408\":\"25,500\",\"409\":\"23,700\",\"410\":\"23,400\",\"411\":\"21,900\",\"412\":\"21,200\",\"413\":\"20,700\",\"414\":\"20,400\",\"415\":\"20,000\",\"416\":\"19,600\",\"417\":\"17,300\",\"418\":\"16,400\",\"419\":\"14,500\",\"420\":\"13,600\",\"421\":\"13,300\",\"422\":\"13,000\",\"423\":\"12,800\",\"424\":\"12,000\",\"425\":\"11,400\",\"426\":\"10,600\",\"427\":\"10,100\",\"428\":\"10,000\",\"429\":\"8,900\",\"430\":\"8,600\",\"431\":\"8,300\",\"432\":\"8,300\",\"433\":\"8,000\",\"434\":\"8,000\",\"435\":\"8,000\",\"436\":\"8,000\",\"437\":\"8,000\",\"438\":\"8,000\",\"439\":\"8,000\",\"440\":\"8,000\",\"441\":\"8,000\",\"442\":\"8,000\",\"443\":\"8,000\",\"444\":\"8,000\",\"445\":\"8,000\",\"446\":\"8,000\",\"447\":\"8,000\",\"448\":\"8,000\",\"449\":\"8,000\",\"450\":\"8,000\",\"451\":\"8,000\",\"452\":\"8,000\",\"453\":\"8,000\",\"454\":\"8,000\",\"455\":\"8,000\",\"456\":\"7,000\",\"457\":\"6,000\",\"458\":\"4,600\",\"459\":\"0\"},\"category\":{\"0\":\"TV Show\",\"1\":\"TV Show\",\"2\":\"TV Show\",\"3\":\"TV Show\",\"4\":\"TV Show\",\"5\":\"TV Show\",\"6\":\"TV Show\",\"7\":\"TV Show\",\"8\":\"TV Show\",\"9\":\"Movie\",\"10\":\"TV Show\",\"11\":\"TV Show\",\"12\":\"TV Show\",\"13\":\"TV Show\",\"14\":\"TV Show\",\"15\":\"TV Show\",\"16\":\"Movie\",\"17\":\"TV Show\",\"18\":\"TV Show\",\"19\":\"TV Show\",\"20\":\"TV Show\",\"21\":\"TV Show\",\"22\":\"TV Show\",\"23\":\"TV Show\",\"24\":\"TV Show\",\"25\":\"TV Show\",\"26\":\"TV Show\",\"27\":\"Movie\",\"28\":\"TV Show\",\"29\":\"TV Show\",\"30\":\"TV Show\",\"31\":\"TV Show\",\"32\":\"TV Show\",\"33\":\"TV Show\",\"34\":\"TV Show\",\"35\":\"TV Show\",\"36\":\"TV Show\",\"37\":\"TV Show\",\"38\":\"TV Show\",\"39\":\"TV Show\",\"40\":\"TV Show\",\"41\":\"Franchise\",\"42\":\"TV Show\",\"43\":\"TV Show\",\"44\":\"TV Show\",\"45\":\"Franchise\",\"46\":\"TV Show\",\"47\":\"Franchise\",\"48\":\"Franchise\",\"49\":\"TV Show\",\"50\":\"TV Show\",\"51\":\"TV Show\",\"52\":\"TV Show\",\"53\":\"TV Show\",\"54\":\"TV Show\",\"55\":\"Franchise\",\"56\":\"TV Show\",\"57\":\"TV Show\",\"58\":\"TV Show\",\"59\":\"Franchise\",\"60\":\"Movie\",\"61\":\"Franchise\",\"62\":\"Movie\",\"63\":\"Franchise\",\"64\":\"TV Show\",\"65\":\"TV Show\",\"66\":\"TV Show\",\"67\":\"TV Show\",\"68\":\"TV Show\",\"69\":\"TV Show\",\"70\":\"Movie\",\"71\":\"Franchise\",\"72\":\"Franchise\",\"73\":\"TV Show\",\"74\":\"Franchise\",\"75\":\"Franchise\",\"76\":\"Franchise\",\"77\":\"TV Show\",\"78\":\"TV Show\",\"79\":\"TV Show\",\"80\":\"Franchise\",\"81\":\"Movie\",\"82\":\"Franchise\",\"83\":\"TV Show\",\"84\":\"TV Show\",\"85\":\"Movie\",\"86\":\"TV Show\",\"87\":\"TV Show\",\"88\":\"TV Show\",\"89\":\"Movie\",\"90\":\"TV Show\",\"91\":\"TV Show\",\"92\":\"Franchise\",\"93\":\"Movie\",\"94\":\"TV Show\",\"95\":\"Franchise\",\"96\":\"TV Show\",\"97\":\"TV Show\",\"98\":\"Movie\",\"99\":\"Franchise\",\"100\":\"TV Show\",\"101\":\"TV Show\",\"102\":\"TV Show\",\"103\":\"Franchise\",\"104\":\"TV Show\",\"105\":\"Franchise\",\"106\":\"TV Show\",\"107\":\"TV Show\",\"108\":\"Movie\",\"109\":\"TV Show\",\"110\":\"Movie\",\"111\":\"TV Show\",\"112\":\"Movie\",\"113\":\"Franchise\",\"114\":\"TV Show\",\"115\":\"Franchise\",\"116\":\"Franchise\",\"117\":\"TV Show\",\"118\":\"TV Show\",\"119\":\"TV Show\",\"120\":\"TV Show\",\"121\":\"Movie\",\"122\":\"Franchise\",\"123\":\"Movie\",\"124\":\"Franchise\",\"125\":\"TV Show\",\"126\":\"Franchise\",\"127\":\"TV Show\",\"128\":\"Franchise\",\"129\":\"Franchise\",\"130\":\"TV Show\",\"131\":\"TV Show\",\"132\":\"Franchise\",\"133\":\"TV Show\",\"134\":\"Franchise\",\"135\":\"TV Show\",\"136\":\"Movie\",\"137\":\"Movie\",\"138\":\"TV Show\",\"139\":\"Franchise\",\"140\":\"Franchise\",\"141\":\"TV Show\",\"142\":\"Franchise\",\"143\":\"Franchise\",\"144\":\"Franchise\",\"145\":\"Movie\",\"146\":\"Franchise\",\"147\":\"TV Show\",\"148\":\"TV Show\",\"149\":\"Franchise\",\"150\":\"TV Show\",\"151\":\"Franchise\",\"152\":\"Franchise\",\"153\":\"Franchise\",\"154\":\"TV Show\",\"155\":\"Movie\",\"156\":\"Franchise\",\"157\":\"TV Show\",\"158\":\"TV Show\",\"159\":\"Movie\",\"160\":\"Movie\",\"161\":\"TV Show\",\"162\":\"Franchise\",\"163\":\"Franchise\",\"164\":\"TV Show\",\"165\":\"TV Show\",\"166\":\"Franchise\",\"167\":\"Movie\",\"168\":\"Franchise\",\"169\":\"Franchise\",\"170\":\"TV Show\",\"171\":\"Movie\",\"172\":\"Movie\",\"173\":\"Franchise\",\"174\":\"TV Show\",\"175\":\"Franchise\",\"176\":\"Franchise\",\"177\":\"Franchise\",\"178\":\"Franchise\",\"179\":\"Franchise\",\"180\":\"Franchise\",\"181\":\"Franchise\",\"182\":\"Movie\",\"183\":\"Movie\",\"184\":\"Franchise\",\"185\":\"Franchise\",\"186\":\"Franchise\",\"187\":\"Movie\",\"188\":\"Franchise\",\"189\":\"Franchise\",\"190\":\"Franchise\",\"191\":\"Franchise\",\"192\":\"Franchise\",\"193\":\"Franchise\",\"194\":\"Franchise\",\"195\":\"Franchise\",\"196\":\"Franchise\",\"197\":\"TV Show\",\"198\":\"Franchise\",\"199\":\"Movie\",\"200\":\"TV Show\",\"201\":\"Movie\",\"202\":\"Movie\",\"203\":\"TV Show\",\"204\":\"Movie\",\"205\":\"TV Show\",\"206\":\"Franchise\",\"207\":\"Franchise\",\"208\":\"Movie\",\"209\":\"Franchise\",\"210\":\"Franchise\",\"211\":\"Movie\",\"212\":\"TV Show\",\"213\":\"Movie\",\"214\":\"Franchise\",\"215\":\"Franchise\",\"216\":\"Franchise\",\"217\":\"Franchise\",\"218\":\"TV Show\",\"219\":\"Franchise\",\"220\":\"Franchise\",\"221\":\"TV Show\",\"222\":\"Franchise\",\"223\":\"Franchise\",\"224\":\"Franchise\",\"225\":\"Movie\",\"226\":\"Franchise\",\"227\":\"Movie\",\"228\":\"Franchise\",\"229\":\"Franchise\",\"230\":\"TV Show\",\"231\":\"Movie\",\"232\":\"Franchise\",\"233\":\"Movie\",\"234\":\"TV Show\",\"235\":\"Franchise\",\"236\":\"Franchise\",\"237\":\"TV Show\",\"238\":\"Movie\",\"239\":\"Movie\",\"240\":\"Franchise\",\"241\":\"Franchise\",\"242\":\"Franchise\",\"243\":\"TV Show\",\"244\":\"Franchise\",\"245\":\"Franchise\",\"246\":\"Movie\",\"247\":\"TV Show\",\"248\":\"Franchise\",\"249\":\"TV Show\",\"250\":\"Movie\",\"251\":\"TV Show\",\"252\":\"Franchise\",\"253\":\"Franchise\",\"254\":\"Movie\",\"255\":\"Franchise\",\"256\":\"TV Show\",\"257\":\"TV Show\",\"258\":\"TV Show\",\"259\":\"Franchise\",\"260\":\"Franchise\",\"261\":\"TV Show\",\"262\":\"Franchise\",\"263\":\"Franchise\",\"264\":\"Franchise\",\"265\":\"Franchise\",\"266\":\"TV Show\",\"267\":\"Franchise\",\"268\":\"Franchise\",\"269\":\"Movie\",\"270\":\"Franchise\",\"271\":\"Franchise\",\"272\":\"Franchise\",\"273\":\"TV Show\",\"274\":\"TV Show\",\"275\":\"Franchise\",\"276\":\"Franchise\",\"277\":\"TV Show\",\"278\":\"Franchise\",\"279\":\"Franchise\",\"280\":\"Franchise\",\"281\":\"Franchise\",\"282\":\"Franchise\",\"283\":\"Franchise\",\"284\":\"Franchise\",\"285\":\"Franchise\",\"286\":\"Franchise\",\"287\":\"Franchise\",\"288\":\"Franchise\",\"289\":\"Franchise\",\"290\":\"Franchise\",\"291\":\"Franchise\",\"292\":\"Franchise\",\"293\":\"Franchise\",\"294\":\"Franchise\",\"295\":\"Franchise\",\"296\":\"Franchise\",\"297\":\"Franchise\",\"298\":\"Franchise\",\"299\":\"Franchise\",\"300\":\"Franchise\",\"301\":\"Movie\",\"302\":\"Franchise\",\"303\":\"Franchise\",\"304\":\"Franchise\",\"305\":\"Franchise\",\"306\":\"Franchise\",\"307\":\"Franchise\",\"308\":\"Franchise\",\"309\":\"Franchise\",\"310\":\"Franchise\",\"311\":\"Franchise\",\"312\":\"Franchise\",\"313\":\"Franchise\",\"314\":\"Franchise\",\"315\":\"Franchise\",\"316\":\"Movie\",\"317\":\"TV Show\",\"318\":\"Franchise\",\"319\":\"Franchise\",\"320\":\"Franchise\",\"321\":\"Franchise\",\"322\":\"Franchise\",\"323\":\"Franchise\",\"324\":\"Movie\",\"325\":\"Franchise\",\"326\":\"Franchise\",\"327\":\"Franchise\",\"328\":\"Movie\",\"329\":\"Franchise\",\"330\":\"Franchise\",\"331\":\"Franchise\",\"332\":\"Franchise\",\"333\":\"Franchise\",\"334\":\"Franchise\",\"335\":\"Franchise\",\"336\":\"Franchise\",\"337\":\"Franchise\",\"338\":\"Franchise\",\"339\":\"Franchise\",\"340\":\"Franchise\",\"341\":\"Franchise\",\"342\":\"Movie\",\"343\":\"Franchise\",\"344\":\"Franchise\",\"345\":\"Franchise\",\"346\":\"Franchise\",\"347\":\"Franchise\",\"348\":\"Movie\",\"349\":\"Franchise\",\"350\":\"Franchise\",\"351\":\"Franchise\",\"352\":\"Franchise\",\"353\":\"Franchise\",\"354\":\"Franchise\",\"355\":\"Franchise\",\"356\":\"Franchise\",\"357\":\"Franchise\",\"358\":\"Franchise\",\"359\":\"Franchise\",\"360\":\"Franchise\",\"361\":\"Franchise\",\"362\":\"Franchise\",\"363\":\"Franchise\",\"364\":\"Franchise\",\"365\":\"Franchise\",\"366\":\"Franchise\",\"367\":\"Franchise\",\"368\":\"Franchise\",\"369\":\"Franchise\",\"370\":\"Franchise\",\"371\":\"Franchise\",\"372\":\"Franchise\",\"373\":\"Franchise\",\"374\":\"Franchise\",\"375\":\"Franchise\",\"376\":\"Franchise\",\"377\":\"Franchise\",\"378\":\"Franchise\",\"379\":\"Franchise\",\"380\":\"Franchise\",\"381\":\"Franchise\",\"382\":\"Franchise\",\"383\":\"Franchise\",\"384\":\"Franchise\",\"385\":\"Franchise\",\"386\":\"Franchise\",\"387\":\"Franchise\",\"388\":\"Franchise\",\"389\":\"Franchise\",\"390\":\"Franchise\",\"391\":\"Franchise\",\"392\":\"Franchise\",\"393\":\"Franchise\",\"394\":\"Franchise\",\"395\":\"Franchise\",\"396\":\"Franchise\",\"397\":\"Franchise\",\"398\":\"Franchise\",\"399\":\"Franchise\",\"400\":\"Franchise\",\"401\":\"Franchise\",\"402\":\"Movie\",\"403\":\"TV Show\",\"404\":\"Movie\",\"405\":\"Movie\",\"406\":\"TV Show\",\"407\":\"TV Show\",\"408\":\"Movie\",\"409\":\"Movie\",\"410\":\"Movie\",\"411\":\"TV Show\",\"412\":\"TV Show\",\"413\":\"TV Show\",\"414\":\"TV Show\",\"415\":\"TV Show\",\"416\":\"Movie\",\"417\":\"Movie\",\"418\":\"Movie\",\"419\":\"TV Show\",\"420\":\"TV Show\",\"421\":\"Movie\",\"422\":\"Movie\",\"423\":\"TV Show\",\"424\":\"TV Show\",\"425\":\"Movie\",\"426\":\"Movie\",\"427\":\"Movie\",\"428\":\"Movie\",\"429\":\"Movie\",\"430\":\"Movie\",\"431\":\"Movie\",\"432\":\"Movie\",\"433\":\"TV Show\",\"434\":\"TV Show\",\"435\":\"Movie\",\"436\":\"TV Show\",\"437\":\"TV Show\",\"438\":\"TV Show\",\"439\":\"TV Show\",\"440\":\"TV Show\",\"441\":\"TV Show\",\"442\":\"Movie\",\"443\":\"Movie\",\"444\":\"Movie\",\"445\":\"Movie\",\"446\":\"Movie\",\"447\":\"Movie\",\"448\":\"Movie\",\"449\":\"Movie\",\"450\":\"Movie\",\"451\":\"Movie\",\"452\":\"Movie\",\"453\":\"Movie\",\"454\":\"Movie\",\"455\":\"Franchise\",\"456\":\"Movie\",\"457\":\"Movie\",\"458\":\"Franchise\",\"459\":\"Movie\"},\"country\":{\"0\":\"United States\",\"1\":\"United States\",\"2\":\"United States\",\"3\":\"United States\",\"4\":\"United States\",\"5\":\"Ireland\",\"6\":\"United States\",\"7\":\"United States\",\"8\":\"United States\",\"9\":\"United States\",\"10\":\"United States\",\"11\":\"United States\",\"12\":\"United States\",\"13\":\"United States\",\"14\":\"United States\",\"15\":\"United States\",\"16\":\"United States\",\"17\":\"United States\",\"18\":\"United States\",\"19\":\"United States\",\"20\":\"United States\",\"21\":\"United States\",\"22\":\"United States\",\"23\":\"United States\",\"24\":\"United States\",\"25\":\"United States\",\"26\":\"United States\",\"27\":\"United States\",\"28\":\"United States\",\"29\":\"United States\",\"30\":\"United Kingdom\",\"31\":\"United States\",\"32\":\"United States\",\"33\":\"United Kingdom\",\"34\":\"United States\",\"35\":\"United States\",\"36\":\"United States\",\"37\":\"United Kingdom\",\"38\":\"United States\",\"39\":\"United States\",\"40\":\"United States\",\"41\":\"United States\",\"42\":\"United States\",\"43\":\"United States\",\"44\":\"United States\",\"45\":\"United Kingdom\",\"46\":\"United States\",\"47\":\"United States\",\"48\":\"United States\",\"49\":\"United Kingdom\",\"50\":\"United States\",\"51\":\"United States\",\"52\":\"United States\",\"53\":\"United Kingdom\",\"54\":\"United States\",\"55\":\"United Kingdom\",\"56\":\"United States\",\"57\":\"United States\",\"58\":\"United States\",\"59\":\"United States\",\"60\":\"United States\",\"61\":\"Canada\",\"62\":\"United States\",\"63\":\"United States\",\"64\":\"United States\",\"65\":\"United States\",\"66\":\"United States\",\"67\":\"United States\",\"68\":\"United States\",\"69\":\"United States\",\"70\":\"United States\",\"71\":\"United States\",\"72\":\"United States\",\"73\":\"United States\",\"74\":\"United States\",\"75\":\"United States\",\"76\":\"Japan\",\"77\":\"United States\",\"78\":\"United States\",\"79\":\"United States\",\"80\":\"United States\",\"81\":\"United States\",\"82\":\"United States\",\"83\":\"United States\",\"84\":\"United States\",\"85\":\"United States\",\"86\":\"United States\",\"87\":\"United States\",\"88\":\"United States\",\"89\":\"United States\",\"90\":\"United States\",\"91\":\"United States\",\"92\":\"United States\",\"93\":\"United States\",\"94\":\"United States\",\"95\":\"United States\",\"96\":\"United States\",\"97\":\"United States\",\"98\":\"United States\",\"99\":\"United States\",\"100\":\"United States\",\"101\":\"United States\",\"102\":\"United States\",\"103\":\"United States\",\"104\":\"United States\",\"105\":\"United States\",\"106\":\"United States\",\"107\":\"United States\",\"108\":\"United States\",\"109\":\"United States\",\"110\":\"United States\",\"111\":\"United States\",\"112\":\"United Kingdom\",\"113\":\"United States\",\"114\":\"United States\",\"115\":\"United States\",\"116\":\"United States\",\"117\":\"United States\",\"118\":\"United States\",\"119\":\"United Kingdom\",\"120\":\"United States\",\"121\":\"United States\",\"122\":\"United States\",\"123\":\"United States\",\"124\":\"United States\",\"125\":\"United States\",\"126\":\"United States\",\"127\":\"United States\",\"128\":\"United States\",\"129\":\"United States\",\"130\":\"United States\",\"131\":\"Canada\",\"132\":\"United States\",\"133\":\"United States\",\"134\":\"United States\",\"135\":\"United Kingdom\",\"136\":\"United States\",\"137\":\"United States\",\"138\":\"United States\",\"139\":\"United States\",\"140\":\"United States\",\"141\":\"United States\",\"142\":\"United States\",\"143\":\"United States\",\"144\":\"United Kingdom\",\"145\":\"United States\",\"146\":\"United States\",\"147\":\"United States\",\"148\":\"United States\",\"149\":\"United States\",\"150\":\"United States\",\"151\":\"United Kingdom\",\"152\":\"United States\",\"153\":\"United States\",\"154\":\"United States\",\"155\":\"United Kingdom\",\"156\":\"United States\",\"157\":\"United States\",\"158\":\"United States\",\"159\":\"United States\",\"160\":\"United States\",\"161\":\"United States\",\"162\":\"United States\",\"163\":\"United States\",\"164\":\"United States\",\"165\":\"United States\",\"166\":\"United States\",\"167\":\"United States\",\"168\":\"United States\",\"169\":\"Canada\",\"170\":\"United Kingdom\",\"171\":\"United States\",\"172\":\"United States\",\"173\":\"United States\",\"174\":\"United Kingdom\",\"175\":\"United States\",\"176\":\"United States\",\"177\":\"United States\",\"178\":\"United States\",\"179\":\"United States\",\"180\":\"United States\",\"181\":\"United States\",\"182\":\"United Kingdom\",\"183\":\"United States\",\"184\":\"United States\",\"185\":\"United States\",\"186\":\"United States\",\"187\":\"United States\",\"188\":\"United States\",\"189\":\"United States\",\"190\":\"United States\",\"191\":\"United States\",\"192\":\"United States\",\"193\":\"United Kingdom\",\"194\":\"United Kingdom\",\"195\":\"United States\",\"196\":\"United States\",\"197\":\"United States\",\"198\":\"United States\",\"199\":\"United States\",\"200\":\"United States\",\"201\":\"United States\",\"202\":\"United States\",\"203\":\"United Kingdom\",\"204\":\"United States\",\"205\":\"United States\",\"206\":\"United States\",\"207\":\"United States\",\"208\":\"United States\",\"209\":\"United States\",\"210\":\"United States\",\"211\":\"United States\",\"212\":\"United States\",\"213\":\"United States\",\"214\":\"United States\",\"215\":\"United States\",\"216\":\"United States\",\"217\":\"United States\",\"218\":\"United States\",\"219\":\"United States\",\"220\":\"United States\",\"221\":\"United States\",\"222\":\"United States\",\"223\":\"United States\",\"224\":\"United States\",\"225\":\"United States\",\"226\":\"United States\",\"227\":\"United States\",\"228\":\"United States\",\"229\":\"United States\",\"230\":\"United Kingdom\",\"231\":\"United States\",\"232\":\"Australia\",\"233\":\"United States\",\"234\":\"United States\",\"235\":\"United Kingdom\",\"236\":\"United States\",\"237\":\"United States\",\"238\":\"United States\",\"239\":\"United Kingdom\",\"240\":\"United States\",\"241\":\"United States\",\"242\":\"United States\",\"243\":\"United States\",\"244\":\"United States\",\"245\":\"United States\",\"246\":\"United States\",\"247\":\"United States\",\"248\":\"United States\",\"249\":\"United States\",\"250\":\"United States\",\"251\":\"United States\",\"252\":\"United States\",\"253\":\"United States\",\"254\":\"United States\",\"255\":\"United States\",\"256\":\"United States\",\"257\":\"United States\",\"258\":\"Sweden\",\"259\":\"United States\",\"260\":\"United States\",\"261\":\"United States\",\"262\":\"1969 \\\\u2013 2014\",\"263\":\"United States\",\"264\":\"United States\",\"265\":\"United States\",\"266\":\"United States\",\"267\":\"United States\",\"268\":\"United States\",\"269\":\"United States\",\"270\":\"United States\",\"271\":\"United States\",\"272\":\"United States\",\"273\":\"United Kingdom\",\"274\":\"United States\",\"275\":\"United States\",\"276\":\"Germany\",\"277\":\"United States\",\"278\":\"United States\",\"279\":\"United States\",\"280\":\"United States\",\"281\":\"United States\",\"282\":\"United States\",\"283\":\"United States\",\"284\":\"United States\",\"285\":\"United States\",\"286\":\"United States\",\"287\":\"United States\",\"288\":\"United States\",\"289\":\"United States\",\"290\":\"United States\",\"291\":\"United States\",\"292\":\"United States\",\"293\":\"United States\",\"294\":\"United States\",\"295\":\"United States\",\"296\":\"United States\",\"297\":\"United States\",\"298\":\"Canada\",\"299\":\"United States\",\"300\":\"United States\",\"301\":\"United States\",\"302\":\"United States\",\"303\":\"United States\",\"304\":\"United States\",\"305\":\"United States\",\"306\":\"United Kingdom\",\"307\":\"United States\",\"308\":\"Australia\",\"309\":\"United States\",\"310\":\"United States\",\"311\":\"United States\",\"312\":\"United States\",\"313\":\"United States\",\"314\":\"United States\",\"315\":\"United States\",\"316\":\"Germany\",\"317\":\"Canada\",\"318\":\"United States\",\"319\":\"United States\",\"320\":\"United States\",\"321\":\"United Kingdom\",\"322\":\"United Kingdom\",\"323\":\"France\",\"324\":\"United States\",\"325\":\"United States\",\"326\":\"United States\",\"327\":\"United States\",\"328\":\"United States\",\"329\":\"United States\",\"330\":\"United States\",\"331\":\"United States\",\"332\":\"United States\",\"333\":\"United States\",\"334\":\"United States\",\"335\":\"United States\",\"336\":\"United States\",\"337\":\"United States\",\"338\":\"United States\",\"339\":\"United Kingdom\",\"340\":\"United States\",\"341\":\"United States\",\"342\":\"United States\",\"343\":\"United States\",\"344\":\"United States\",\"345\":\"United Kingdom\",\"346\":\"United States\",\"347\":\"Australia\",\"348\":\"United States\",\"349\":\"United States\",\"350\":\"United States\",\"351\":\"United States\",\"352\":\"United States\",\"353\":\"United States\",\"354\":\"United States\",\"355\":\"United States\",\"356\":\"United States\",\"357\":\"United States\",\"358\":\"United States\",\"359\":\"United States\",\"360\":\"United States\",\"361\":\"United States\",\"362\":\"United States\",\"363\":\"United States\",\"364\":\"United States\",\"365\":\"United States\",\"366\":\"United States\",\"367\":\"United Kingdom\",\"368\":\"United States\",\"369\":\"China\",\"370\":\"United States\",\"371\":\"United States\",\"372\":\"United States\",\"373\":\"United States\",\"374\":\"United States\",\"375\":\"United States\",\"376\":\"United States\",\"377\":\"United States\",\"378\":\"United States\",\"379\":\"United States\",\"380\":\"United States\",\"381\":\"United States\",\"382\":\"United States\",\"383\":\"United States\",\"384\":\"United States\",\"385\":\"United States\",\"386\":\"United States\",\"387\":\"United States\",\"388\":\"United States\",\"389\":\"United States\",\"390\":\"United States\",\"391\":\"United States\",\"392\":\"United States\",\"393\":\"United States\",\"394\":\"United Kingdom\",\"395\":\"Germany\",\"396\":\"United States\",\"397\":\"United States\",\"398\":\"United States\",\"399\":\"United States\",\"400\":\"United States\",\"401\":\"United States\",\"402\":\"France\",\"403\":\"United States\",\"404\":\"United Kingdom\",\"405\":\"United States\",\"406\":\"Australia\",\"407\":\"United States\",\"408\":\"United States\",\"409\":\"Italy\",\"410\":\"United States\",\"411\":\"United States\",\"412\":\"United States\",\"413\":\"United States\",\"414\":\"United States\",\"415\":\"Ireland\",\"416\":\"United States\",\"417\":\"United Kingdom\",\"418\":\"United States\",\"419\":\"United States\",\"420\":\"United States\",\"421\":\"United States\",\"422\":\"United States\",\"423\":\"United States\",\"424\":\"United States\",\"425\":\"United States\",\"426\":\"United States\",\"427\":\"Italy\",\"428\":\"United States\",\"429\":\"Germany\",\"430\":\"United States\",\"431\":\"Germany\",\"432\":\"United States\",\"433\":\"United Kingdom\",\"434\":\"United Kingdom\",\"435\":\"United Kingdom\",\"436\":\"United States\",\"437\":\"United Kingdom\",\"438\":\"United States\",\"439\":\"United Kingdom\",\"440\":\"United States\",\"441\":\"United States\",\"442\":\"United States\",\"443\":\"United Kingdom\",\"444\":\"United States\",\"445\":\"United States\",\"446\":\"United States\",\"447\":\"United States\",\"448\":\"United States\",\"449\":\"United Kingdom\",\"450\":\"United States\",\"451\":\"United States\",\"452\":\"United States\",\"453\":\"United States\",\"454\":\"United States\",\"455\":\"United States\",\"456\":\"United States\",\"457\":\"United Kingdom\",\"458\":\"United States\",\"459\":\"United States\"},\"premiere\":{\"0\":\"09\\\\/22\\\\/1994\",\"1\":\"09\\\\/13\\\\/2005\",\"2\":\"02\\\\/10\\\\/1940\",\"3\":\"04\\\\/17\\\\/2011\",\"4\":\"12\\\\/17\\\\/1989\",\"5\":\"03\\\\/03\\\\/2013\",\"6\":\"03\\\\/10\\\\/1997\",\"7\":\"05\\\\/27\\\\/2015\",\"8\":\"07\\\\/15\\\\/2016\",\"9\":\"04\\\\/15\\\\/2011\",\"10\":\"09\\\\/13\\\\/2005\",\"11\":\"03\\\\/27\\\\/2005\",\"12\":\"01\\\\/20\\\\/2008\",\"13\":\"12\\\\/02\\\\/2013\",\"14\":\"10\\\\/10\\\\/2012\",\"15\":\"12\\\\/20\\\\/2019\",\"16\":\"11\\\\/24\\\\/2010\",\"17\":\"09\\\\/24\\\\/2007\",\"18\":\"01\\\\/25\\\\/2016\",\"19\":\"09\\\\/10\\\\/2009\",\"20\":\"03\\\\/31\\\\/2017\",\"21\":\"06\\\\/08\\\\/2010\",\"22\":\"09\\\\/19\\\\/2007\",\"23\":\"08\\\\/13\\\\/1997\",\"24\":\"01\\\\/31\\\\/1999\",\"25\":\"03\\\\/19\\\\/2014\",\"26\":\"10\\\\/05\\\\/2011\",\"27\":\"06\\\\/18\\\\/1998\",\"28\":\"09\\\\/19\\\\/2005\",\"29\":\"02\\\\/06\\\\/2005\",\"30\":\"03\\\\/26\\\\/2005\",\"31\":\"05\\\\/19\\\\/2009\",\"32\":\"10\\\\/23\\\\/2011\",\"33\":\"09\\\\/12\\\\/2013\",\"34\":\"04\\\\/05\\\\/2010\",\"35\":\"10\\\\/01\\\\/2006\",\"36\":\"01\\\\/26\\\\/2017\",\"37\":\"07\\\\/25\\\\/2010\",\"38\":\"06\\\\/06\\\\/1998\",\"39\":\"10\\\\/03\\\\/2008\",\"40\":\"10\\\\/03\\\\/2013\",\"41\":\"2013 \\\\u2013 2020\",\"42\":\"07\\\\/11\\\\/2013\",\"43\":\"10\\\\/07\\\\/2014\",\"44\":\"03\\\\/28\\\\/1999\",\"45\":\"2001 \\\\u2013 2011\",\"46\":\"08\\\\/29\\\\/2005\",\"47\":\"2008 \\\\u2013 2012\",\"48\":\"1977 \\\\u2013 2019\",\"49\":\"12\\\\/04\\\\/2011\",\"50\":\"09\\\\/10\\\\/1990\",\"51\":\"01\\\\/09\\\\/2011\",\"52\":\"09\\\\/23\\\\/2009\",\"53\":\"11\\\\/04\\\\/2016\",\"54\":\"09\\\\/17\\\\/2009\",\"55\":\"2007 \\\\u2013 2007\",\"56\":\"09\\\\/30\\\\/2001\",\"57\":\"04\\\\/05\\\\/1987\",\"58\":\"04\\\\/09\\\\/2009\",\"59\":\"1998 \\\\u2013 2004\",\"60\":\"05\\\\/16\\\\/2014\",\"61\":\"2001 \\\\u2013 2017\",\"62\":\"10\\\\/04\\\\/2013\",\"63\":\"2005 \\\\u2013 2012\",\"64\":\"09\\\\/20\\\\/2002\",\"65\":\"10\\\\/05\\\\/2000\",\"66\":\"09\\\\/17\\\\/2013\",\"67\":\"10\\\\/03\\\\/2004\",\"68\":\"03\\\\/24\\\\/2005\",\"69\":\"09\\\\/22\\\\/2014\",\"70\":\"09\\\\/22\\\\/1995\",\"71\":\"1999 \\\\u2013 2020\",\"72\":\"1992 \\\\u2013 2019\",\"73\":\"02\\\\/01\\\\/2013\",\"74\":\"1978 \\\\u2013 1987\",\"75\":\"1989 \\\\u2013 2007\",\"76\":\"1998 \\\\u2013 2019\",\"77\":\"09\\\\/03\\\\/2008\",\"78\":\"09\\\\/22\\\\/2005\",\"79\":\"09\\\\/10\\\\/1993\",\"80\":\"2017 \\\\u2013 2020\",\"81\":\"03\\\\/28\\\\/2018\",\"82\":\"2008 \\\\u2013 2013\",\"83\":\"09\\\\/23\\\\/2003\",\"84\":\"09\\\\/22\\\\/2003\",\"85\":\"11\\\\/05\\\\/2014\",\"86\":\"06\\\\/02\\\\/2002\",\"87\":\"08\\\\/09\\\\/2014\",\"88\":\"10\\\\/16\\\\/2001\",\"89\":\"07\\\\/16\\\\/2008\",\"90\":\"10\\\\/02\\\\/2016\",\"91\":\"04\\\\/15\\\\/2020\",\"92\":\"1928 \\\\u2013 2017\",\"93\":\"02\\\\/24\\\\/2004\",\"94\":\"07\\\\/24\\\\/2007\",\"95\":\"2019 \\\\u2013 2022\",\"96\":\"11\\\\/06\\\\/2001\",\"97\":\"08\\\\/28\\\\/2015\",\"98\":\"07\\\\/06\\\\/1994\",\"99\":\"2001 \\\\u2013 2021\",\"100\":\"09\\\\/23\\\\/2013\",\"101\":\"01\\\\/10\\\\/1999\",\"102\":\"05\\\\/06\\\\/2019\",\"103\":\"2004 \\\\u2013 2020\",\"104\":\"10\\\\/26\\\\/2015\",\"105\":\"1979 \\\\u2013 2017\",\"106\":\"02\\\\/08\\\\/2015\",\"107\":\"04\\\\/05\\\\/2012\",\"108\":\"05\\\\/24\\\\/2004\",\"109\":\"04\\\\/26\\\\/2017\",\"110\":\"06\\\\/28\\\\/2007\",\"111\":\"01\\\\/12\\\\/2014\",\"112\":\"10\\\\/24\\\\/2018\",\"113\":\"2010 \\\\u2013 2016\",\"114\":\"10\\\\/28\\\\/2011\",\"115\":\"2016 \\\\u2013 2018\",\"116\":\"2005 \\\\u2013 2017\",\"117\":\"09\\\\/24\\\\/2013\",\"118\":\"09\\\\/20\\\\/2016\",\"119\":\"09\\\\/26\\\\/2010\",\"120\":\"09\\\\/22\\\\/1999\",\"121\":\"02\\\\/11\\\\/2016\",\"122\":\"1996 \\\\u2013 2011\",\"123\":\"06\\\\/19\\\\/2015\",\"124\":\"1972 \\\\u2013 1990\",\"125\":\"04\\\\/04\\\\/2013\",\"126\":\"2006 \\\\u2013 2019\",\"127\":\"08\\\\/17\\\\/2007\",\"128\":\"2015 \\\\u2013 2021\",\"129\":\"1994 \\\\u2013 2019\",\"130\":\"07\\\\/19\\\\/2007\",\"131\":\"01\\\\/13\\\\/2015\",\"132\":\"1976 \\\\u2013 2018\",\"133\":\"07\\\\/05\\\\/1989\",\"134\":\"1980 \\\\u2013 2009\",\"135\":\"11\\\\/03\\\\/2019\",\"136\":\"03\\\\/01\\\\/2007\",\"137\":\"06\\\\/22\\\\/2008\",\"138\":\"10\\\\/02\\\\/2011\",\"139\":\"2011 \\\\u2013 2017\",\"140\":\"2007 \\\\u2013 2018\",\"141\":\"06\\\\/24\\\\/2012\",\"142\":\"2011 \\\\u2013 2017\",\"143\":\"2001 \\\\u2013 2003\",\"144\":\"2008 \\\\u2013 2018\",\"145\":\"09\\\\/20\\\\/2010\",\"146\":\"2010 \\\\u2013 2017\",\"147\":\"04\\\\/22\\\\/2012\",\"148\":\"09\\\\/23\\\\/2008\",\"149\":\"2002 \\\\u2013 2007\",\"150\":\"10\\\\/02\\\\/2001\",\"151\":\"1962 \\\\u2013 2021\",\"152\":\"2011 \\\\u2013 2016\",\"153\":\"1999 \\\\u2013 2021\",\"154\":\"09\\\\/22\\\\/2015\",\"155\":\"10\\\\/30\\\\/2013\",\"156\":\"1989 \\\\u2013 2008\",\"157\":\"01\\\\/11\\\\/2013\",\"158\":\"09\\\\/23\\\\/2002\",\"159\":\"07\\\\/01\\\\/2008\",\"160\":\"05\\\\/18\\\\/2018\",\"161\":\"04\\\\/08\\\\/1990\",\"162\":\"2002 \\\\u2013 2020\",\"163\":\"2005 \\\\u2013 2015\",\"164\":\"09\\\\/07\\\\/2008\",\"165\":\"01\\\\/31\\\\/1988\",\"166\":\"2018 \\\\u2013 2021\",\"167\":\"11\\\\/07\\\\/2014\",\"168\":\"2013 \\\\u2013 2019\",\"169\":\"1994 \\\\u2013 2009\",\"170\":\"05\\\\/04\\\\/2010\",\"171\":\"12\\\\/13\\\\/2007\",\"172\":\"06\\\\/20\\\\/2013\",\"173\":\"1995 \\\\u2013 1997\",\"174\":\"11\\\\/12\\\\/2009\",\"175\":\"1995 \\\\u2013 2020\",\"176\":\"2012 \\\\u2013 2019\",\"177\":\"1967 \\\\u2013 2016\",\"178\":\"2016 \\\\u2013 2021\",\"179\":\"2003 \\\\u2013 2016\",\"180\":\"1995 \\\\u2013 2006\",\"181\":\"2008 \\\\u2013 2015\",\"182\":\"07\\\\/19\\\\/2017\",\"183\":\"03\\\\/03\\\\/2010\",\"184\":\"1997 \\\\u2013 2019\",\"185\":\"2020 \\\\u2013 2022\",\"186\":\"2014 \\\\u2013 2017\",\"187\":\"08\\\\/02\\\\/1999\",\"188\":\"1984 \\\\u2013 2018\",\"189\":\"2009 \\\\u2013 2022\",\"190\":\"2001 \\\\u2013 2011\",\"191\":\"1990 \\\\u2013 2002\",\"192\":\"1977 \\\\u2013 2011\",\"193\":\"2013 \\\\u2013 2019\",\"194\":\"2016 \\\\u2013 2018\",\"195\":\"2014 \\\\u2013 2019\",\"196\":\"2019 \\\\u2013 2021\",\"197\":\"09\\\\/19\\\\/1994\",\"198\":\"1963 \\\\u2013 2009\",\"199\":\"06\\\\/30\\\\/1998\",\"200\":\"05\\\\/17\\\\/2020\",\"201\":\"10\\\\/05\\\\/2001\",\"202\":\"06\\\\/30\\\\/2006\",\"203\":\"02\\\\/15\\\\/1988\",\"204\":\"04\\\\/03\\\\/1982\",\"205\":\"06\\\\/03\\\\/2001\",\"206\":\"1995 \\\\u2013 2019\",\"207\":\"2018 \\\\u2013 2018\",\"208\":\"12\\\\/25\\\\/2014\",\"209\":\"1993 \\\\u2013 2022\",\"210\":\"1982 \\\\u2013 1990\",\"211\":\"10\\\\/02\\\\/2015\",\"212\":\"09\\\\/20\\\\/2011\",\"213\":\"05\\\\/06\\\\/2004\",\"214\":\"2002 \\\\u2013 2017\",\"215\":\"1998 \\\\u2013 2010\",\"216\":\"2015 \\\\u2013 2018\",\"217\":\"1996 \\\\u2013 2022\",\"218\":\"03\\\\/11\\\\/2018\",\"219\":\"1986 \\\\u2013 2018\",\"220\":\"2009 \\\\u2013 2019\",\"221\":\"09\\\\/24\\\\/2010\",\"222\":\"2003 \\\\u2013 2008\",\"223\":\"2003 \\\\u2013 2004\",\"224\":\"2006 \\\\u2013 2020\",\"225\":\"02\\\\/01\\\\/1991\",\"226\":\"1991 \\\\u2013 2017\",\"227\":\"10\\\\/10\\\\/2009\",\"228\":\"2012 \\\\u2013 2014\",\"229\":\"1987 \\\\u2013 2018\",\"230\":\"10\\\\/10\\\\/2015\",\"231\":\"08\\\\/21\\\\/2009\",\"232\":\"1979 \\\\u2013 2015\",\"233\":\"12\\\\/25\\\\/2015\",\"234\":\"02\\\\/06\\\\/2014\",\"235\":\"2007 \\\\u2013 2020\",\"236\":\"2008 \\\\u2013 2016\",\"237\":\"09\\\\/22\\\\/2004\",\"238\":\"01\\\\/18\\\\/2014\",\"239\":\"11\\\\/21\\\\/2012\",\"240\":\"2001 \\\\u2013 2014\",\"241\":\"2004 \\\\u2013 2018\",\"242\":\"1999 \\\\u2013 2008\",\"243\":\"10\\\\/24\\\\/2014\",\"244\":\"2001 \\\\u2013 2018\",\"245\":\"2017\",\"246\":\"07\\\\/24\\\\/1998\",\"247\":\"04\\\\/06\\\\/2014\",\"248\":\"2017 \\\\u2013 2017\",\"249\":\"09\\\\/09\\\\/2001\",\"250\":\"03\\\\/26\\\\/2009\",\"251\":\"09\\\\/15\\\\/1971\",\"252\":\"2009 \\\\u2013 2015\",\"253\":\"1984 \\\\u2013 2021\",\"254\":\"08\\\\/07\\\\/2013\",\"255\":\"2004 \\\\u2013 2006\",\"256\":\"06\\\\/29\\\\/2014\",\"257\":\"09\\\\/03\\\\/2020\",\"258\":\"09\\\\/21\\\\/2011\",\"259\":\"2000 \\\\u2013 2020\",\"260\":\"2009 \\\\u2013 2017\",\"261\":\"07\\\\/12\\\\/1997\",\"262\":\"Documentary\",\"263\":\"2013 \\\\u2013 2021\",\"264\":\"1984 \\\\u2013 2019\",\"265\":\"1998 \\\\u2013 2008\",\"266\":\"09\\\\/09\\\\/2010\",\"267\":\"1978 \\\\u2013 2012\",\"268\":\"1995 \\\\u2013 2019\",\"269\":\"12\\\\/25\\\\/2009\",\"270\":\"1982 \\\\u2013 2019\",\"271\":\"1982 \\\\u2013 2010\",\"272\":\"2010 \\\\u2013 2014\",\"273\":\"03\\\\/04\\\\/2013\",\"274\":\"05\\\\/08\\\\/2015\",\"275\":\"2014 \\\\u2013 2019\",\"276\":\"2000 \\\\u2013 2011\",\"277\":\"12\\\\/12\\\\/2014\",\"278\":\"2005 \\\\u2013 2014\",\"279\":\"1933 \\\\u2013 2017\",\"280\":\"1984 \\\\u2013 2010\",\"281\":\"2018 \\\\u2013 2021\",\"282\":\"2009 \\\\u2013 2011\",\"283\":\"2004 \\\\u2013 2004\",\"284\":\"2010 \\\\u2013 2018\",\"285\":\"1987 \\\\u2013 2004\",\"286\":\"1939 \\\\u2013 2013\",\"287\":\"2014 \\\\u2013 2018\",\"288\":\"1985 \\\\u2013 1990\",\"289\":\"1953 \\\\u2013 2002\",\"290\":\"2001 \\\\u2013 2003\",\"291\":\"2012 \\\\u2013 2017\",\"292\":\"2001 \\\\u2013 2018\",\"293\":\"1995 \\\\u2013 1998\",\"294\":\"2000 \\\\u2013 2013\",\"295\":\"2010 \\\\u2013 2013\",\"296\":\"2002 \\\\u2013 2016\",\"297\":\"2017 \\\\u2013 2017\",\"298\":\"1999 \\\\u2013 2012\",\"299\":\"2012 \\\\u2013 2018\",\"300\":\"2013 \\\\u2013 2020\",\"301\":\"11\\\\/21\\\\/2007\",\"302\":\"1991 \\\\u2013 1993\",\"303\":\"2012 \\\\u2013 2021\",\"304\":\"2014 \\\\u2013 2016\",\"305\":\"2014 \\\\u2013 2016\",\"306\":\"2003 \\\\u2013 2018\",\"307\":\"1986 \\\\u2013 2021\",\"308\":\"2006 \\\\u2013 2011\",\"309\":\"2014 \\\\u2013 2018\",\"310\":\"1994 \\\\u2013 2000\",\"311\":\"2006 \\\\u2013 2012\",\"312\":\"2004 \\\\u2013 2008\",\"313\":\"2009 \\\\u2013 2013\",\"314\":\"2007 \\\\u2013 2015\",\"315\":\"2013 \\\\u2013 2021\",\"316\":\"12\\\\/10\\\\/2008\",\"317\":\"11\\\\/06\\\\/2011\",\"318\":\"2010 \\\\u2013 2019\",\"319\":\"1987 \\\\u2013 2014\",\"320\":\"2007 \\\\u2013 2013\",\"321\":\"2015 \\\\u2013 2021\",\"322\":\"1990 \\\\u2013 2008\",\"323\":\"1999 \\\\u2013 2012\",\"324\":\"10\\\\/12\\\\/2007\",\"325\":\"2006 \\\\u2013 2014\",\"326\":\"1988 \\\\u2013 2013\",\"327\":\"1964 \\\\u2013 2018\",\"328\":\"12\\\\/05\\\\/1990\",\"329\":\"1994 \\\\u2013 1994\",\"330\":\"2005 \\\\u2013 2010\",\"331\":\"2002 \\\\u2013 2012\",\"332\":\"2007 \\\\u2013 2011\",\"333\":\"1991 \\\\u2013 2007\",\"334\":\"2012 \\\\u2013 2015\",\"335\":\"2010 \\\\u2013 2013\",\"336\":\"1998 \\\\u2013 2007\",\"337\":\"1982 \\\\u2013 2015\",\"338\":\"1973 \\\\u2013 2016\",\"339\":\"2001 \\\\u2013 2016\",\"340\":\"2010 \\\\u2013 2012\",\"341\":\"2017 \\\\u2013 2017\",\"342\":\"04\\\\/02\\\\/2004\",\"343\":\"2000 \\\\u2013 2005\",\"344\":\"2000 \\\\u2013 2005\",\"345\":\"2014 \\\\u2013 2017\",\"346\":\"2000 \\\\u2013 2019\",\"347\":\"2018 \\\\u2013 2020\",\"348\":\"04\\\\/13\\\\/2004\",\"349\":\"2013 \\\\u2013 2016\",\"350\":\"2008 \\\\u2013 2014\",\"351\":\"1982 \\\\u2013 2011\",\"352\":\"2012 \\\\u2013 2016\",\"353\":\"2000 \\\\u2013 2010\",\"354\":\"1997 \\\\u2013 2002\",\"355\":\"1987 \\\\u2013 1998\",\"356\":\"1996 \\\\u2013 2002\",\"357\":\"1992 \\\\u2013 1992\",\"358\":\"2000 \\\\u2013 2013\",\"359\":\"2014 \\\\u2013 2016\",\"360\":\"2008 \\\\u2013 2018\",\"361\":\"2004 \\\\u2013 2007\",\"362\":\"1960 \\\\u2013 2016\",\"363\":\"1984 \\\\u2013 1994\",\"364\":\"2006 \\\\u2013 2012\",\"365\":\"2015 \\\\u2013 2018\",\"366\":\"1997 \\\\u2013 1998\",\"367\":\"2013 \\\\u2013 2019\",\"368\":\"1997 \\\\u2013 2012\",\"369\":\"2000 \\\\u2013 2016\",\"370\":\"2006 \\\\u2013 2014\",\"371\":\"2011 \\\\u2013 2017\",\"372\":\"1999 \\\\u2013 2003\",\"373\":\"1978 \\\\u2013 2015\",\"374\":\"2004 \\\\u2013 2009\",\"375\":\"1994 \\\\u2013 1995\",\"376\":\"2001 \\\\u2013 2011\",\"377\":\"1981 \\\\u2013 2008\",\"378\":\"1993 \\\\u2013 2010\",\"379\":\"1967 \\\\u2013 2020\",\"380\":\"1961 \\\\u2013 2003\",\"381\":\"1997 \\\\u2013 2012\",\"382\":\"1990 \\\\u2013 2018\",\"383\":\"2001 \\\\u2013 2004\",\"384\":\"2014 \\\\u2013 2016\",\"385\":\"2002 \\\\u2013 2016\",\"386\":\"1992 \\\\u2013 1993\",\"387\":\"1999 \\\\u2013 2016\",\"388\":\"1989 \\\\u2013 2019\",\"389\":\"2013 \\\\u2013 2019\",\"390\":\"2002 \\\\u2013 2019\",\"391\":\"1989 \\\\u2013 1993\",\"392\":\"2009 \\\\u2013 2013\",\"393\":\"2003 \\\\u2013 2006\",\"394\":\"1987 \\\\u2013 2011\",\"395\":\"1984 \\\\u2013 1994\",\"396\":\"2011 \\\\u2013 2014\",\"397\":\"1992 \\\\u2013 1993\",\"398\":\"2003 \\\\u2013 2017\",\"399\":\"2012 \\\\u2013 2015\",\"400\":\"1999 \\\\u2013 2005\",\"401\":\"2013 \\\\u2013 2018\",\"402\":\"09\\\\/24\\\\/2002\",\"403\":\"01\\\\/01\\\\/2009\",\"404\":\"06\\\\/27\\\\/1986\",\"405\":\"12\\\\/09\\\\/1994\",\"406\":\"03\\\\/19\\\\/2007\",\"407\":\"03\\\\/20\\\\/2015\",\"408\":\"10\\\\/01\\\\/2014\",\"409\":\"10\\\\/11\\\\/2018\",\"410\":\"10\\\\/08\\\\/2010\",\"411\":\"08\\\\/07\\\\/2005\",\"412\":\"01\\\\/30\\\\/2013\",\"413\":\"05\\\\/28\\\\/2015\",\"414\":\"01\\\\/22\\\\/2010\",\"415\":\"04\\\\/01\\\\/2007\",\"416\":\"06\\\\/02\\\\/1989\",\"417\":\"02\\\\/20\\\\/1985\",\"418\":\"11\\\\/18\\\\/1999\",\"419\":\"09\\\\/28\\\\/2006\",\"420\":\"04\\\\/03\\\\/2011\",\"421\":\"12\\\\/25\\\\/2014\",\"422\":\"09\\\\/09\\\\/2013\",\"423\":\"06\\\\/01\\\\/2014\",\"424\":\"10\\\\/17\\\\/2013\",\"425\":\"07\\\\/26\\\\/2004\",\"426\":\"10\\\\/16\\\\/2015\",\"427\":\"12\\\\/20\\\\/1997\",\"428\":\"11\\\\/14\\\\/1996\",\"429\":\"11\\\\/08\\\\/2013\",\"430\":\"11\\\\/29\\\\/1993\",\"431\":\"09\\\\/11\\\\/2012\",\"432\":\"08\\\\/22\\\\/2014\",\"433\":\"12\\\\/26\\\\/2013\",\"434\":\"04\\\\/22\\\\/2019\",\"435\":\"09\\\\/02\\\\/2003\",\"436\":\"07\\\\/10\\\\/2016\",\"437\":\"10\\\\/28\\\\/2014\",\"438\":\"02\\\\/06\\\\/2014\",\"439\":\"01\\\\/21\\\\/2015\",\"440\":\"03\\\\/16\\\\/2010\",\"441\":\"01\\\\/15\\\\/2015\",\"442\":\"10\\\\/15\\\\/2008\",\"443\":\"11\\\\/26\\\\/2014\",\"444\":\"12\\\\/25\\\\/1999\",\"445\":\"12\\\\/26\\\\/2002\",\"446\":\"11\\\\/16\\\\/2003\",\"447\":\"12\\\\/22\\\\/2004\",\"448\":\"12\\\\/05\\\\/2014\",\"449\":\"12\\\\/29\\\\/1971\",\"450\":\"04\\\\/04\\\\/1976\",\"451\":\"09\\\\/11\\\\/1987\",\"452\":\"12\\\\/20\\\\/1991\",\"453\":\"09\\\\/20\\\\/1996\",\"454\":\"10\\\\/19\\\\/2007\",\"455\":\"2011 \\\\u2013 2015\",\"456\":\"09\\\\/10\\\\/2006\",\"457\":\"08\\\\/31\\\\/2005\",\"458\":\"2009 \\\\u2013 2016\",\"459\":\"12\\\\/25\\\\/2014\"},\"genre\":{\"0\":\"|Comedy|Sitcom\",\"1\":\"|Fantasy|Supernatural\",\"2\":\"|Animation|For Older Kids\",\"3\":\"| HBO|Fantasy|Dragons\",\"4\":\"|Animation|Adult Animation\",\"5\":\"|History|Vikings\",\"6\":\"|Fantasy|Vampires\",\"7\":\"|Drama|Crime Drama\",\"8\":\"| Netflix|Mystery|Supernatural\",\"9\":\"|Animated|For Girls\",\"10\":\"|Crime|Case of the week\",\"11\":\"|Drama|Doctors\",\"12\":\"|Crime|Drug Cartel\",\"13\":\"|Animation|Adult Animation\",\"14\":\"|Superhero|DC\",\"15\":\"| Netflix|Fantasy|Wizards\",\"16\":\"|Animated|For Girls\",\"17\":\"|Comedy|Sitcom\",\"18\":\"| Netflix|Superhero|DC\",\"19\":\"|Fantasy|Vampires\",\"20\":\"| Netflix|Drama|Teens\",\"21\":\"|Drama|Mystery\",\"22\":\"|Comedy|Teens\",\"23\":\"|Animation|Adult Animation\",\"24\":\"|Animation|Adult Animation\",\"25\":\"|Science Fiction|Postapocalypse\",\"26\":\"|Horror|Supernatural\",\"27\":\"|Animated|Princesses\",\"28\":\"|Comedy|Sitcom\",\"29\":\"|Animation|Adult Animation\",\"30\":\"|Science Fiction|Time travel\",\"31\":\"|Drama|Music\",\"32\":\"|Fantasy|Witch\",\"33\":\"|Drama|Gangsters\",\"34\":\"|Animation|For babies\",\"35\":\"|Crime|Serial killer\",\"36\":\"|Superhero|DC\",\"37\":\"|Crime|Case of the week\",\"38\":\"| HBO|Comedy|Fashion\",\"39\":\"| Disney+|Animation|Space opera\",\"40\":\"|Fantasy|Vampires\",\"41\":\"|Animation|For Girls\",\"42\":\"| Netflix|Drama|Prison\",\"43\":\"|Superhero|DC\",\"44\":\"|Animation|Adult Animation\",\"45\":\"|Fantasy|Wizards\",\"46\":\"|Action|Prison\",\"47\":\"|Fantasy|Vampires\",\"48\":\"| Disney+|Science Fiction|Space opera\",\"49\":\"| Netflix|Science Fiction|Future\",\"50\":\"|Comedy|Sitcom\",\"51\":\"|Comedy|Family Ties\",\"52\":\"|Comedy|Sitcom\",\"53\":\"| Netflix|History|Kings and Queens\",\"54\":\"|Action|Adult Animation\",\"55\":\"|Comedy|Situation\",\"56\":\"|Action|Spies\",\"57\":\"|Comedy|Sitcom\",\"58\":\"|Comedy|Sitcom\",\"59\":\"|Superhero|Marvel\",\"60\":\"|Romance|Cancer\",\"61\":\"|Animated\",\"62\":\"|Science Fiction|Space\",\"63\":\"|Superhero|DC\",\"64\":\"|Science Fiction|Space opera\",\"65\":\"|Drama|Coming of Age\",\"66\":\"|Comedy|Buddies\",\"67\":\"|Drama|Crime Drama\",\"68\":\"|Comedy|Sitcom\",\"69\":\"| Netflix|Superhero|DC\",\"70\":\"|Crime|Serial killer\",\"71\":\"|Animated|For Boys\",\"72\":\"|Animated|For Boys\",\"73\":\"| Netflix|Drama|Politics\",\"74\":\"|Superhero|DC\",\"75\":\"|Animated|Adult Animation\",\"76\":\"|Animated|For Older Kids\",\"77\":\"|Action|Gangsters\",\"78\":\"|Crime|Case of the week\",\"79\":\"|Science Fiction|Supernatural\",\"80\":\"| HBO|Superhero|DC\",\"81\":\"|Science Fiction|Cyberpunk\",\"82\":\"|Superhero|Marvel\",\"83\":\"|Crime|Case of the week\",\"84\":\"|Comedy|Sitcom\",\"85\":\"|Science Fiction|Space\",\"86\":\"| HBO|Crime|Crime Drama\",\"87\":\"|Drama|Forbidden Love\",\"88\":\"|Superhero|DC\",\"89\":\"|Superhero|DC\",\"90\":\"| HBO|Science Fiction|Robots\",\"91\":\"| Netflix|Drama|Treasure hunt\",\"92\":\"|Animated|For babies\",\"93\":\"|Drama|Christian\",\"94\":\"|Drama|Lawyers\",\"95\":\"|Superhero|DC\",\"96\":\"|Action|Terorrism\",\"97\":\"| Netflix|Drama|Drug Cartel\",\"98\":\"|Drama|Cry movie\",\"99\":\"|Action|Cars\",\"100\":\"|Crime|Case of the week\",\"101\":\"| HBO|Drama|Gangsters\",\"102\":\"| HBO|Drama|Disaster\",\"103\":\"|Horror|Splatter\",\"104\":\"|Superhero|DC\",\"105\":\"|Science Fiction|Alien Invasion\",\"106\":\"|Crime|Lawyers\",\"107\":\"|Drama|Politics\",\"108\":\"|Science Fiction|Disaster\",\"109\":\"| Hulu|Drama|Forbidden Love\",\"110\":\"|Animated|Animals\",\"111\":\"| HBO|Crime|Murder\",\"112\":\"|Biopic|Musicians\",\"113\":\"|Fantasy\",\"114\":\"|Fantasy|Witch\",\"115\":\"|Superhero|Marvel\",\"116\":\"|Animated|For Older Kids\",\"117\":\"|Superhero|Marvel\",\"118\":\"|Drama|Family Ties\",\"119\":\"|History|Kings and Queens\",\"120\":\"|Drama|Politics\",\"121\":\"|Animated|For Girls\",\"122\":\"|Horror|Slasher\",\"123\":\"|Animated|For Girls\",\"124\":\"|Drama|Gangsters\",\"125\":\"|Crime|Serial killer\",\"126\":\"|Romance|Dance\",\"127\":\"|Animation|For Boys\",\"128\":\"|Animated\",\"129\":\"|Animation|Animals\",\"130\":\"|Drama|Business\",\"131\":\"|Comedy|Sitcom\",\"132\":\"|Drama|Boxing\",\"133\":\"|Comedy|Sitcom\",\"134\":\"|Horror|Slasher\",\"135\":\"| HBO|Fantasy|Wizards\",\"136\":\"|Crime|Serial killer\",\"137\":\"|Animated|For Boys\",\"138\":\"|Drama|Spies\",\"139\":\"|Superhero|Marvel\",\"140\":\"|Science Fiction|Robots\",\"141\":\"| HBO|Drama|Journalists\",\"142\":\"|Animated|For babies\",\"143\":\"|Fantasy\",\"144\":\"|Cry movie\",\"145\":\"|Documentary\",\"146\":\"|Animated|For Older Kids\",\"147\":\"| HBO|Comedy|Politics\",\"148\":\"|Crime|Case of the week\",\"149\":\"|Superhero|Marvel\",\"150\":\"|Comedy|Doctors\",\"151\":\"|Action|Spies\",\"152\":\"|Superhero|Marvel\",\"153\":\"|Science Fiction\",\"154\":\"|Comedy\",\"155\":\"|Drama|Racism\",\"156\":\"|Animated|For Girls\",\"157\":\"|Action|Gangsters\",\"158\":\"|Crime|Case of the week\",\"159\":\"|Superhero|Independent Comics\",\"160\":\"|Comedy|Dramedy\",\"161\":\"|Crime|Mystery\",\"162\":\"|Fantasy\",\"163\":\"|Superhero|Marvel\",\"164\":\"| HBO|Fantasy|Vampires\",\"165\":\"|Drama|Coming of Age\",\"166\":\"|Superhero|Marvel\",\"167\":\"|Animated|For Boys\",\"168\":\"|Animated|For Boys\",\"169\":\"|Action|Kung-fu\",\"170\":\"|Crime|Crime Drama\",\"171\":\"|Science Fiction|Postapocalypse\",\"172\":\"|Horror|Zombies\",\"173\":\"|Action|Kung-fu\",\"174\":\"|Superhero|Teens\",\"175\":\"|Action|Buddies\",\"176\":\"|Superhero|Marvel\",\"177\":\"|Animated|Animals\",\"178\":\"|Superhero|DC\",\"179\":\"|Animated|Animals\",\"180\":\"|Animated\",\"181\":\"|Animated|For Girls\",\"182\":\"|War|World War II\",\"183\":\"|Fantasy|Fantasy Adventure\",\"184\":\"|Science Fiction|Aliens\",\"185\":\"|Adventure|For Older Kids\",\"186\":\"|Superhero|Marvel\",\"187\":\"|Horror|Ghosts\",\"188\":\"|Action|Kung-fu\",\"189\":\"|Science Fiction\",\"190\":\"|Animated|Cats\",\"191\":\"|Comedy|Christmas\",\"192\":\"|Animated|For Boys\",\"193\":\"|Animated|Animals\",\"194\":\"|Fantasy|Wizards\",\"195\":\"|Fantasy\",\"196\":\"|Science Fiction|monster\",\"197\":\"|Drama|Doctors\",\"198\":\"|Comedy\",\"199\":\"|Science Fiction|Disaster\",\"200\":\"| Netflix|Science Fiction|Postapocalypse\",\"201\":\"|Action|Action Crime\",\"202\":\"|Romance|Fashion\",\"203\":\"|Science Fiction|Sitcom\",\"204\":\"|Science Fiction|Aliens\",\"205\":\"| HBO|Drama|Family Ties\",\"206\":\"|Animated|For Boys\",\"207\":\"|Superhero|DC\",\"208\":\"|War|Iraq War\",\"209\":\"|Adventure|Dinosaurs\",\"210\":\"|Action|Buddies\",\"211\":\"|Science Fiction|Space\",\"212\":\"|Comedy\",\"213\":\"|Fantasy|Werewolves\",\"214\":\"|Science Fiction|Zombies\",\"215\":\"| HBO|Comedy|Fashion\",\"216\":\"|Superhero|Marvel\",\"217\":\"|Action|Spies\",\"218\":\"|Crime\",\"219\":\"|Animated|For Girls\",\"220\":\"|Horror|Zombies\",\"221\":\"|Crime|Crime Drama\",\"222\":\"|Superhero|Marvel\",\"223\":\"|Action|Revenge\",\"224\":\"| Disney+|Comedy|Music\",\"225\":\"|Horror|Serial killer\",\"226\":\"|Animated|For Girls\",\"227\":\"|Science Fiction|Disaster\",\"228\":\"|Fantasy|Wizards\",\"229\":\"|Science Fiction|Alien Invasion\",\"230\":\"| Netflix|History|Kings and Queens\",\"231\":\"|War|World War II\",\"232\":\"|Science Fiction|Postapocalypse\",\"233\":\"|Drama|Survival\",\"234\":\"| Amazon|Crime|Crime Drama\",\"235\":\"|Animated|Family\",\"236\":\"|Animated|For Boys\",\"237\":\"|Case of the week\",\"238\":\"|Comedy\",\"239\":\"|Drama|Magical Realism\",\"240\":\"|Animated|For Boys\",\"241\":\"|Animated|Spies\",\"242\":\"|Adventure|Ancient Egypt\",\"243\":\"|Superhero|DC\",\"244\":\"|Crime|Heist\",\"245\":\"|Animation|For Boys\",\"246\":\"|War|World War II\",\"247\":\"| HBO|Comedy|Business\",\"248\":\"|Science Fiction|Future\",\"249\":\"| HBO|War|World War II\",\"250\":\"|Animated|For Older Kids\",\"251\":\"|Crime|Case of the week\",\"252\":\"|Horror|Demons\",\"253\":\"|Horror|Horror Comedy\",\"254\":\"|Comedy|Situation\",\"255\":\"|Comedy|Cats\",\"256\":\"| HBO|Mystery|Supernatural\",\"257\":\"| HBO Max|Science Fiction|Sci-fi drama\",\"258\":\"|Crime|Murder\",\"259\":\"|Superhero|Marvel\",\"260\":\"|Superhero|Marvel\",\"261\":\"| HBO|Drama|Prison\",\"262\":\"|Satira\",\"263\":\"|Horror|Demons\",\"264\":\"|Science Fiction|Time travel\",\"265\":\"|Science Fiction\",\"266\":\"|Crime|Crime Drama\",\"267\":\"|Space opera\",\"268\":\"|Adventure|Treasure hunt\",\"269\":\"|Comedy|Rom Com\",\"270\":\"|Action|Action Heroes\",\"271\":\"|Science Fiction|Cyberpunk\",\"272\":\"|Action|Action Heroes\",\"273\":\"|Crime|Murder\",\"274\":\"| Netflix|Comedy|Dramedy\",\"275\":\"|Animated|For Boys\",\"276\":\"|Horror\",\"277\":\"| Netflix|History|Far East\",\"278\":\"|Crime|Noir\",\"279\":\"|Science Fiction|monster\",\"280\":\"|Horror|Slasher\",\"281\":\"|Science Fiction\",\"282\":\"|Crime|Buddies\",\"283\":\"|Comedy|Teens\",\"284\":\"|Horror|Ghosts\",\"285\":\"|Romance|Dance\",\"286\":\"|Fantasy\",\"287\":\"|Superhero|Independent Comics\",\"288\":\"|Science Fiction|Time travel\",\"289\":\"|Animated|For Boys\",\"290\":\"|Comedy\",\"291\":\"|Comedy|Music\",\"292\":\"|Adventure|Treasure hunt\",\"293\":\"|Animated|For Girls\",\"294\":\"|Comedy|Parody\",\"295\":\"|Fantasy|Gods\",\"296\":\"|Animated|Dinosaurs\",\"297\":\"|Superhero|DC\",\"298\":\"|Comedy|Teens\",\"299\":\"|Animated|For Boys\",\"300\":\"|Animated\",\"301\":\"|Drama\",\"302\":\"|Comedy|Horror Comedy\",\"303\":\"|Animated|For Boys\",\"304\":\"|Comedy\",\"305\":\"|Science Fiction|Postapocalypse\",\"306\":\"|Comedy|Spies\",\"307\":\"|Action|Planes\",\"308\":\"|Animated|Music\",\"309\":\"|Science Fiction|Postapocalypse\",\"310\":\"|Comedy|Dinosaurs\",\"311\":\"|Fantasy|Vampires\",\"312\":\"|Superhero|Independent Comics\",\"313\":\"|Science Fiction\",\"314\":\"|Animated|Family\",\"315\":\"|Horror|Slasher\",\"316\":\"|Drama|Holocaust\",\"317\":\"\",\"318\":\"|Animated|For Boys\",\"319\":\"|Science Fiction|Robots\",\"320\":\"|Animated|For Boys\",\"321\":\"|Action|Spies\",\"322\":\"|Animated|For Older Kids\",\"323\":\"|Adventure|For Older Kids\",\"324\":\"|Drama|Lawyers\",\"325\":\"|Superhero|Ancient Greece\",\"326\":\"|Action|Thrillers\",\"327\":\"\",\"328\":\"|Fantasy|Magical Realism\",\"329\":\"|Science Fiction|Space opera\",\"330\":\"|Fantasy\",\"331\":\"|Adventure|Ancient Egypt\",\"332\":\"|Superhero|Marvel\",\"333\":\"|Horror|Serial killer\",\"334\":\"|Science Fiction|Postapocalypse\",\"335\":\"|Comedy|Teens\",\"336\":\"|Action|Buddies\",\"337\":\"|Horror|Ghosts\",\"338\":\"|Horror|Excorcism\",\"339\":\"|Romance\",\"340\":\"|Fantasy|Ancient Greece\",\"341\":\"|Crime|Mystery\",\"342\":\"|Superhero|Independent Comics\",\"343\":\"|Animated|For Boys\",\"344\":\"|Comedy|Spies\",\"345\":\"|Adventure|Family\",\"346\":\"|Action|Buddies\",\"347\":\"|Adventure\",\"348\":\"|Comedy|Body switch\",\"349\":\"|Crime|Illusionists\",\"350\":\"|Action|Action Heroes\",\"351\":\"|Fantasy|Wizards\",\"352\":\"|Action|Revenge\",\"353\":\"|Comedy\",\"354\":\"|Comedy|Spies\",\"355\":\"|Action|Buddies\",\"356\":\"|Animated|For Older Kids\",\"357\":\"|Thriller|sex\",\"358\":\"|Science Fiction|Space opera\",\"359\":\"|Comedy\",\"360\":\"| Netflix|Science Fiction|monster\",\"361\":\"|Adventure|Treasure hunt\",\"362\":\"|Western|Revenge\",\"363\":\"|Action|Buddies\",\"364\":\"|Horror|Demons\",\"365\":\"|Romance|sex\",\"366\":\"|Horror\",\"367\":\"|Action|Thrillers\",\"368\":\"|Science Fiction|Space opera\",\"369\":\"| Netflix|Action|Kung-fu\",\"370\":\"|Adventure|Fantasy Adventure\",\"371\":\"|Science Fiction|Postapocalypse\",\"372\":\"|Comedy|Sci-fi comedy\",\"373\":\"|Comedy\",\"374\":\"|Horror|Ghosts\",\"375\":\"|Comedy|Animals\",\"376\":\"|Adventure|Family\",\"377\":\"|Adventure|Treasure hunt\",\"378\":\"|Adventure\",\"379\":\"|Adventure\",\"380\":\"|Animated|Dogs\",\"381\":\"|Crime|Serial killer\",\"382\":\"|Action|Terorrism\",\"383\":\"|Romance|Cinderella Story\",\"384\":\"|Horror\",\"385\":\"|Romance|Rom Com\",\"386\":\"|Comedy|Music\",\"387\":\"|Horror\",\"388\":\"|Horror|Animal Attack\",\"389\":\"|Action|Action Heroes\",\"390\":\"|Action|Spies\",\"391\":\"|Comedy\",\"392\":\"|Animated|For Older Kids\",\"393\":\"|Animated|Animals\",\"394\":\"|Horror|Slasher\",\"395\":\"|Fantasy|Fantasy Adventure\",\"396\":\"|Comedy|Satira\",\"397\":\"|Comedy\",\"398\":\"|Adventure|Pirates\",\"399\":\"|Comedy|Music\",\"400\":\"|Animated|Family\",\"401\":\"|Science Fiction|Alien Invasion\",\"402\":\"|Biopic|Musicians\",\"403\":\"\",\"404\":\"|Fantasy|Wizards\",\"405\":\"|Thriller|sex\",\"406\":\"\",\"407\":\"| Netflix|Drama|Crime Drama\",\"408\":\"|Thriller|Disapperance\",\"409\":\"| Amazon|Horror|Witch\",\"410\":\"|Romance|Relationship\",\"411\":\"|Comedy|Weed\",\"412\":\"|Drama|Spies\",\"413\":\"\",\"414\":\"|History|Ancient Rome\",\"415\":\"|History|Kings and Queens\",\"416\":\"|Drama|Cry movie\",\"417\":\"|Science Fiction|Future\",\"418\":\"|Horror|Witch\",\"419\":\"|Comedy|Dramedy\",\"420\":\"|History|Kings and Queens\",\"421\":\"|Biopic|Survival\",\"422\":\"|Drama\",\"423\":\"|Drama|Business\",\"424\":\"|History|Kings and Queens\",\"425\":\"|Thriller|Mystery\",\"426\":\"|Horror|Ghosts\",\"427\":\"|Drama|Holocaust\",\"428\":\"|Romance|Forbidden Love\",\"429\":\"|Drama|Holocaust\",\"430\":\"|Drama|Holocaust\",\"431\":\"|Biopic|Writers\",\"432\":\"|Drama|Dramedy\",\"433\":\"|Crime|Mystery\",\"434\":\"| HBO|Drama\",\"435\":\"|Comedy|Dramedy\",\"436\":\"| HBO|Crime|Murder\",\"437\":\"|Mystery|Disapperance\",\"438\":\"| Amazon|Drama|Dramedy\",\"439\":\"|History|Kings and Queens\",\"440\":\"|Crime|Crime Drama\",\"441\":\"| Amazon|Science Fiction|World War II\",\"442\":\"|Drama|Journalists\",\"443\":\"|Drama|Geniuses\",\"444\":\"|Thriller|Serial killer\",\"445\":\"|Music|Crime\",\"446\":\"|Drama|Serial killer\",\"447\":\"|Drama|Racism\",\"448\":\"|Drama|Relationship\",\"449\":\"|Thriller\",\"450\":\"|Thriller|Journalists\",\"451\":\"|Thriller|sex\",\"452\":\"|Drama|Conspiracy\",\"453\":\"|Comedy|Break-up\",\"454\":\"|Crime|Disapperance\",\"455\":\"|Comedy\",\"456\":\"|Drama\",\"457\":\"|Thriller|Crime Drama\",\"458\":\"|Science Fiction|Space opera\",\"459\":\"|Fantasy|Witch\"}}'"
      ]
     },
     "execution_count": 268,
     "metadata": {},
     "output_type": "execute_result"
    }
   ],
   "source": [
    "flix_feb12_genZ.to_json()"
   ]
  },
  {
   "cell_type": "code",
   "execution_count": 254,
   "metadata": {},
   "outputs": [],
   "source": [
    "browser.quit()"
   ]
  },
  {
   "cell_type": "code",
   "execution_count": 54,
   "metadata": {},
   "outputs": [],
   "source": [
    "for a in aa:\n",
    "    print(a)"
   ]
  },
  {
   "cell_type": "code",
   "execution_count": 710,
   "metadata": {},
   "outputs": [],
   "source": [
    "#finds the search icon on the opening page and clicks it\n",
    "def click_search_icon():\n",
    "    buttons = browser.find_by_tag('button')\n",
    "\n",
    "    for button in buttons:\n",
    "        if (button.value==\"SEARCH\"):\n",
    "            button.click()\n",
    "            break"
   ]
  },
  {
   "cell_type": "code",
   "execution_count": 711,
   "metadata": {},
   "outputs": [],
   "source": [
    "#fills in the search bar\n",
    "def enter_text(search_word):\n",
    "\n",
    "    browser.find_by_tag('input').fill(search_word)"
   ]
  },
  {
   "cell_type": "code",
   "execution_count": 712,
   "metadata": {},
   "outputs": [],
   "source": [
    "#finds the 'Go' button and clicks it to start search\n",
    "def click_go():\n",
    "    buttons = browser.find_by_tag('button')\n",
    "    #the 'Go' button is the +1 after the search icon\n",
    "    found = False \n",
    "\n",
    "    for button in buttons:\n",
    "        if (found):\n",
    "            button.click()\n",
    "            break\n",
    "        if (button.value==\"SEARCH\"):\n",
    "            found = True"
   ]
  },
  {
   "cell_type": "code",
   "execution_count": 714,
   "metadata": {},
   "outputs": [],
   "source": [
    "#function to click 'show more'\n",
    "def show_more ():\n",
    "    if(browser.is_element_not_present_by_text('Show More')):\n",
    "        return True\n",
    "    else:\n",
    "        browser.find_by_text('Show More').click()\n",
    "        return False\n",
    "    "
   ]
  },
  {
   "cell_type": "code",
   "execution_count": 718,
   "metadata": {},
   "outputs": [],
   "source": [
    "#function to pull article data\n",
    "def get_article_data(soup):\n",
    "    thelinks=soup.find_all(href=True)\n",
    "\n",
    "    for link in thelinks:\n",
    "        \n",
    "        #makes sure is article rather than a podcast or video, based on link convention\n",
    "        if(re.search(r'^/\\d\\d\\d\\d/\\d\\d/\\d\\d/', link['href'])):\n",
    "            \n",
    "            #makes sure not already entered into database\n",
    "            if (link['href'] not in articles):\n",
    "                \n",
    "                #extracts the date from the link\n",
    "                temp=link['href'].split('/')\n",
    "                dates.append(temp[2] + '/' +  temp[3] + '/' + temp[1])\n",
    "                articles.append(link['href'])\n",
    "                \n",
    "                #finds the title associated with the link\n",
    "                if(link.find('h4')!=None): \n",
    "                    titles.append(link.find('h4').text)\n",
    "                else: \n",
    "                    titles.append(\"\")\n",
    "                \n",
    "                #finds the sub text associated with the link\n",
    "                if(link.find('p', class_=\"css-16nhkrn\")!=None):\n",
    "                    subheaders.append(link.find('p', class_=\"css-16nhkrn\").text)\n",
    "                else: \n",
    "                    subheaders.append(\"\")\n",
    "                    \n",
    "                #finds the section associated with    \n",
    "                if(link.parent.find('p', class_=\"css-myxawk\")!=None):\n",
    "                    sections.append(link.parent.find('p', class_=\"css-myxawk\").text)\n",
    "                else: \n",
    "                    sections.append(\"\")\n",
    "                \n",
    "                \n",
    "                #if it doesn't meet the requirements removes it from the list\n",
    "                if(meets_requirement()==False):\n",
    "                    titles.pop()\n",
    "                    subheaders.pop()\n",
    "                    sections.pop()\n",
    "                    dates.pop()\n",
    "                    articles.pop()\n",
    "                    \n",
    "         \n",
    "                    \n",
    "                    "
   ]
  },
  {
   "cell_type": "code",
   "execution_count": 719,
   "metadata": {},
   "outputs": [],
   "source": [
    "#checks to see if main word or related words are in title or subheader\n",
    "#so search word is more than just an incidental piece to the article\n",
    "def meets_requirement():\n",
    "    matches=False\n",
    "    for word in related_words:\n",
    "        if(word in titles[len(titles)-1].lower()):\n",
    "            matches=True\n",
    "        if(word in subheaders[len(subheaders)-1].lower()):\n",
    "            matches=True\n",
    "    \n",
    "    return (matches)       "
   ]
  },
  {
   "cell_type": "code",
   "execution_count": null,
   "metadata": {},
   "outputs": [],
   "source": []
  },
  {
   "cell_type": "code",
   "execution_count": 202,
   "metadata": {},
   "outputs": [],
   "source": [
    "#####SCRAPE NEW YORK TIMES SITE##########"
   ]
  },
  {
   "cell_type": "code",
   "execution_count": 826,
   "metadata": {},
   "outputs": [
    {
     "name": "stderr",
     "output_type": "stream",
     "text": [
      "\n",
      "\n",
      "====== WebDriver manager ======\n",
      "Current google-chrome version is 94.0.4606\n",
      "Get LATEST driver version for 94.0.4606\n",
      "Driver [/Users/juliankauffmann/.wdm/drivers/chromedriver/mac64/94.0.4606.61/chromedriver] found in cache\n"
     ]
    }
   ],
   "source": [
    "#setup splinter\n",
    "executable_path= {'executable_path': ChromeDriverManager().install()}\n",
    "browser= Browser('chrome', **executable_path, headless=False)"
   ]
  },
  {
   "cell_type": "code",
   "execution_count": 827,
   "metadata": {},
   "outputs": [
    {
     "name": "stdout",
     "output_type": "stream",
     "text": [
      "complete\n"
     ]
    }
   ],
   "source": [
    "#Runs the bot to search NYTimes\n",
    "\n",
    "#initiate the lists\n",
    "titles=[]\n",
    "subheaders=[]\n",
    "sections=[]\n",
    "dates=[]\n",
    "articles=[]\n",
    "\n",
    "#word to search\n",
    "my_search='transgender'\n",
    "related_words=['transgender','gender','trans','transvestite','transsexual','non-binary']\n",
    "search_date_in='01/01/1980'\n",
    "search_date_out='10/06/2021' #the current date at time of running the bot\n",
    "quit_searching=False\n",
    "\n",
    "\n",
    "#start the search\n",
    "open_nytimes()\n",
    "time.sleep(6)\n",
    "click_search_icon()\n",
    "enter_text(my_search)\n",
    "click_go()\n",
    "time.sleep(4)\n",
    "\n",
    "#searches within specified date\n",
    "browser.find_by_text('Date Range').click()\n",
    "browser.find_by_text('Specific Dates').click()\n",
    "browser.find_by_tag('input')[1].fill(search_date_in)\n",
    "browser.find_by_tag('input')[2].fill(search_date_out)\n",
    "show_more()\n",
    "\n",
    "#loop through articles until gets articles for final year\n",
    "while (quit_searching==False):\n",
    "    time.sleep(2)\n",
    "    soup=get_updated_html()\n",
    "    get_article_data(soup)\n",
    "    \n",
    "    time.sleep(random.randint(0,1))\n",
    "    quit_searching=show_more()\n",
    "        \n",
    "#runs one more time to make sure all the articles are pulled\n",
    "time.sleep(2)\n",
    "soup=get_updated_html()\n",
    "get_article_data(soup)\n",
    "\n",
    "\n",
    "print('complete')    "
   ]
  },
  {
   "cell_type": "code",
   "execution_count": 832,
   "metadata": {},
   "outputs": [],
   "source": [
    "browser.quit()"
   ]
  },
  {
   "cell_type": "code",
   "execution_count": null,
   "metadata": {},
   "outputs": [],
   "source": []
  },
  {
   "cell_type": "code",
   "execution_count": 829,
   "metadata": {},
   "outputs": [
    {
     "data": {
      "text/html": [
       "<div>\n",
       "<style scoped>\n",
       "    .dataframe tbody tr th:only-of-type {\n",
       "        vertical-align: middle;\n",
       "    }\n",
       "\n",
       "    .dataframe tbody tr th {\n",
       "        vertical-align: top;\n",
       "    }\n",
       "\n",
       "    .dataframe thead th {\n",
       "        text-align: right;\n",
       "    }\n",
       "</style>\n",
       "<table border=\"1\" class=\"dataframe\">\n",
       "  <thead>\n",
       "    <tr style=\"text-align: right;\">\n",
       "      <th></th>\n",
       "      <th>Headline</th>\n",
       "      <th>Subheader</th>\n",
       "      <th>Section</th>\n",
       "      <th>Date</th>\n",
       "      <th>URL</th>\n",
       "    </tr>\n",
       "  </thead>\n",
       "  <tbody>\n",
       "    <tr>\n",
       "      <th>0</th>\n",
       "      <td>Two transgender women win seats in the next Ge...</td>\n",
       "      <td>The two lawmakers, both from the Green Party, ...</td>\n",
       "      <td>Europe</td>\n",
       "      <td>09/27/2021</td>\n",
       "      <td>/2021/09/27/world/europe/german-parliament-tra...</td>\n",
       "    </tr>\n",
       "    <tr>\n",
       "      <th>1</th>\n",
       "      <td>For Transgender Youth, Stigma Is Just One Barr...</td>\n",
       "      <td>Discrimination, delays and systemic hurdles pr...</td>\n",
       "      <td>Health</td>\n",
       "      <td>09/28/2021</td>\n",
       "      <td>/2021/09/28/health/transgender-health-care.htm...</td>\n",
       "    </tr>\n",
       "    <tr>\n",
       "      <th>2</th>\n",
       "      <td>‘Sex Education’ Gets More Inclusive in Its Int...</td>\n",
       "      <td>With its new nonbinary characters and its scen...</td>\n",
       "      <td>Television</td>\n",
       "      <td>10/06/2021</td>\n",
       "      <td>/2021/10/06/arts/television/sex-education-seas...</td>\n",
       "    </tr>\n",
       "    <tr>\n",
       "      <th>3</th>\n",
       "      <td>The A.C.L.U. Errs on R.B.G.</td>\n",
       "      <td>A bad tweet reveals a rift over gender and rep...</td>\n",
       "      <td>Opinion</td>\n",
       "      <td>09/27/2021</td>\n",
       "      <td>/2021/09/27/opinion/rbg-aclu-abortion.html?sea...</td>\n",
       "    </tr>\n",
       "    <tr>\n",
       "      <th>4</th>\n",
       "      <td>Intimate Portraits of Mexico’s Third-Gender Muxes</td>\n",
       "      <td>On the Isthmus of Tehuantepec in southern Mexi...</td>\n",
       "      <td>Travel</td>\n",
       "      <td>09/27/2021</td>\n",
       "      <td>/2021/09/27/travel/mexico-muxes-third-gender.h...</td>\n",
       "    </tr>\n",
       "  </tbody>\n",
       "</table>\n",
       "</div>"
      ],
      "text/plain": [
       "                                            Headline  \\\n",
       "0  Two transgender women win seats in the next Ge...   \n",
       "1  For Transgender Youth, Stigma Is Just One Barr...   \n",
       "2  ‘Sex Education’ Gets More Inclusive in Its Int...   \n",
       "3                        The A.C.L.U. Errs on R.B.G.   \n",
       "4  Intimate Portraits of Mexico’s Third-Gender Muxes   \n",
       "\n",
       "                                           Subheader     Section        Date  \\\n",
       "0  The two lawmakers, both from the Green Party, ...      Europe  09/27/2021   \n",
       "1  Discrimination, delays and systemic hurdles pr...      Health  09/28/2021   \n",
       "2  With its new nonbinary characters and its scen...  Television  10/06/2021   \n",
       "3  A bad tweet reveals a rift over gender and rep...     Opinion  09/27/2021   \n",
       "4  On the Isthmus of Tehuantepec in southern Mexi...      Travel  09/27/2021   \n",
       "\n",
       "                                                 URL  \n",
       "0  /2021/09/27/world/europe/german-parliament-tra...  \n",
       "1  /2021/09/28/health/transgender-health-care.htm...  \n",
       "2  /2021/10/06/arts/television/sex-education-seas...  \n",
       "3  /2021/09/27/opinion/rbg-aclu-abortion.html?sea...  \n",
       "4  /2021/09/27/travel/mexico-muxes-third-gender.h...  "
      ]
     },
     "execution_count": 829,
     "metadata": {},
     "output_type": "execute_result"
    }
   ],
   "source": [
    "#puts the scraped information into a database\n",
    "nytimes_2021=pd.DataFrame({\n",
    "    \"Headline\": titles,\n",
    "    \"Subheader\": subheaders,\n",
    "    \"Section\": sections,\n",
    "    \"Date\": dates,\n",
    "    \"URL\" : articles,\n",
    "})\n",
    "\n",
    "\n",
    "nytimes_2021.head()"
   ]
  },
  {
   "cell_type": "code",
   "execution_count": 830,
   "metadata": {},
   "outputs": [
    {
     "data": {
      "text/html": [
       "<div>\n",
       "<style scoped>\n",
       "    .dataframe tbody tr th:only-of-type {\n",
       "        vertical-align: middle;\n",
       "    }\n",
       "\n",
       "    .dataframe tbody tr th {\n",
       "        vertical-align: top;\n",
       "    }\n",
       "\n",
       "    .dataframe thead th {\n",
       "        text-align: right;\n",
       "    }\n",
       "</style>\n",
       "<table border=\"1\" class=\"dataframe\">\n",
       "  <thead>\n",
       "    <tr style=\"text-align: right;\">\n",
       "      <th></th>\n",
       "      <th>Headline</th>\n",
       "      <th>Subheader</th>\n",
       "      <th>Section</th>\n",
       "      <th>Date</th>\n",
       "      <th>URL</th>\n",
       "    </tr>\n",
       "  </thead>\n",
       "  <tbody>\n",
       "    <tr>\n",
       "      <th>0</th>\n",
       "      <td>Two transgender women win seats in the next Ge...</td>\n",
       "      <td>The two lawmakers, both from the Green Party, ...</td>\n",
       "      <td>Europe</td>\n",
       "      <td>09/27/2021</td>\n",
       "      <td>/2021/09/27/world/europe/german-parliament-tra...</td>\n",
       "    </tr>\n",
       "    <tr>\n",
       "      <th>1</th>\n",
       "      <td>For Transgender Youth, Stigma Is Just One Barr...</td>\n",
       "      <td>Discrimination, delays and systemic hurdles pr...</td>\n",
       "      <td>Health</td>\n",
       "      <td>09/28/2021</td>\n",
       "      <td>/2021/09/28/health/transgender-health-care.htm...</td>\n",
       "    </tr>\n",
       "    <tr>\n",
       "      <th>2</th>\n",
       "      <td>‘Sex Education’ Gets More Inclusive in Its Int...</td>\n",
       "      <td>With its new nonbinary characters and its scen...</td>\n",
       "      <td>Television</td>\n",
       "      <td>10/06/2021</td>\n",
       "      <td>/2021/10/06/arts/television/sex-education-seas...</td>\n",
       "    </tr>\n",
       "    <tr>\n",
       "      <th>3</th>\n",
       "      <td>The A.C.L.U. Errs on R.B.G.</td>\n",
       "      <td>A bad tweet reveals a rift over gender and rep...</td>\n",
       "      <td>Opinion</td>\n",
       "      <td>09/27/2021</td>\n",
       "      <td>/2021/09/27/opinion/rbg-aclu-abortion.html?sea...</td>\n",
       "    </tr>\n",
       "    <tr>\n",
       "      <th>4</th>\n",
       "      <td>Intimate Portraits of Mexico’s Third-Gender Muxes</td>\n",
       "      <td>On the Isthmus of Tehuantepec in southern Mexi...</td>\n",
       "      <td>Travel</td>\n",
       "      <td>09/27/2021</td>\n",
       "      <td>/2021/09/27/travel/mexico-muxes-third-gender.h...</td>\n",
       "    </tr>\n",
       "  </tbody>\n",
       "</table>\n",
       "</div>"
      ],
      "text/plain": [
       "                                            Headline  \\\n",
       "0  Two transgender women win seats in the next Ge...   \n",
       "1  For Transgender Youth, Stigma Is Just One Barr...   \n",
       "2  ‘Sex Education’ Gets More Inclusive in Its Int...   \n",
       "3                        The A.C.L.U. Errs on R.B.G.   \n",
       "4  Intimate Portraits of Mexico’s Third-Gender Muxes   \n",
       "\n",
       "                                           Subheader     Section        Date  \\\n",
       "0  The two lawmakers, both from the Green Party, ...      Europe  09/27/2021   \n",
       "1  Discrimination, delays and systemic hurdles pr...      Health  09/28/2021   \n",
       "2  With its new nonbinary characters and its scen...  Television  10/06/2021   \n",
       "3  A bad tweet reveals a rift over gender and rep...     Opinion  09/27/2021   \n",
       "4  On the Isthmus of Tehuantepec in southern Mexi...      Travel  09/27/2021   \n",
       "\n",
       "                                                 URL  \n",
       "0  /2021/09/27/world/europe/german-parliament-tra...  \n",
       "1  /2021/09/28/health/transgender-health-care.htm...  \n",
       "2  /2021/10/06/arts/television/sex-education-seas...  \n",
       "3  /2021/09/27/opinion/rbg-aclu-abortion.html?sea...  \n",
       "4  /2021/09/27/travel/mexico-muxes-third-gender.h...  "
      ]
     },
     "execution_count": 830,
     "metadata": {},
     "output_type": "execute_result"
    }
   ],
   "source": [
    "#concatenates database as I scraped at two different times\n",
    "nytimes_1980_21=pd.concat([nytimes_2021,nytimes_1980_20t])\n",
    "nytimes_1980_21.head()"
   ]
  },
  {
   "cell_type": "code",
   "execution_count": null,
   "metadata": {},
   "outputs": [],
   "source": [
    "nytimes_1980_21.to_csv('nytimes_trans_1980_2021.csv')"
   ]
  },
  {
   "cell_type": "code",
   "execution_count": null,
   "metadata": {},
   "outputs": [],
   "source": []
  },
  {
   "cell_type": "code",
   "execution_count": 542,
   "metadata": {},
   "outputs": [],
   "source": [
    "#####CLEAN DATA##########"
   ]
  },
  {
   "cell_type": "code",
   "execution_count": 205,
   "metadata": {},
   "outputs": [],
   "source": [
    "#Opens csv dataframe created above\n",
    "nytimes_trans_db=pd.read_csv(\"data/nytimes_trans_1980_2021.csv\")"
   ]
  },
  {
   "cell_type": "code",
   "execution_count": 206,
   "metadata": {},
   "outputs": [],
   "source": [
    "#resets index\n",
    "nytimes_trans_db.reset_index(inplace=True)"
   ]
  },
  {
   "cell_type": "code",
   "execution_count": 208,
   "metadata": {},
   "outputs": [],
   "source": [
    "#converts 'Date' column to datetime\n",
    "nytimes_trans_db['Date']=pd.to_datetime(nytimes_trans_db['Date'])"
   ]
  },
  {
   "cell_type": "code",
   "execution_count": 209,
   "metadata": {},
   "outputs": [],
   "source": [
    "#sorts by dates\n",
    "nytimes_trans_db.sort_values(by='Date', inplace=True)"
   ]
  },
  {
   "cell_type": "code",
   "execution_count": 210,
   "metadata": {},
   "outputs": [
    {
     "data": {
      "text/plain": [
       "array([False])"
      ]
     },
     "execution_count": 210,
     "metadata": {},
     "output_type": "execute_result"
    }
   ],
   "source": [
    "#checks for duplicated rows\n",
    "nytimes_trans_db.duplicated().unique()"
   ]
  },
  {
   "cell_type": "code",
   "execution_count": 211,
   "metadata": {},
   "outputs": [],
   "source": [
    "#creates bins for Sections\n",
    "categories={'Arts': ['Movies','Books','Book Review', 'Theater','Arts',\n",
    "                     'Style','Television','Fashion', 'First Chapters',\n",
    "                     'Theater Reviews','Art & Design','Dance','Media','Awards Season',\n",
    "                     'Music','International Arts','Art','The Learning Network',\n",
    "                     'DealBook','Fashion & Beauty','Food'],\n",
    "            'US New': ['U.S.', 'New York', 'Connecticut', 'Americas','Education',\n",
    "                       'Education Life','Politics','Elections'],\n",
    "            'World News': ['World','Africa','Europe','Asia Pacific','Global Opinion','Middle East','Canada','Australia'],\n",
    "            'Sports': ['Sports','Olympics','College Basketball','Soccer','Golf','N.B.A.', 'Baseball',\n",
    "                       'Hockey','Tennis'],\n",
    "            'Life': ['Home & Garden','Travel','Your Money','Real Estate',\n",
    "                     'Job Market','Smarter Living','Family','Retirement','Self-Care', 'Parenting','Love','Business'],\n",
    "            'Science':['Psychology','Science','Technology','Personal Tech','Mind','Climate','Health','Fertility'],\n",
    "            'Misc': ['The City','Magazine','Week in Review','Archives','Long Island',\n",
    "                     'Sunday Review','Views','The Upshot','Times Insider', 'T Magazine',\n",
    "                     'Booming','NYT Now', 'Giving','Live','The Daily', 'Today’s Paper',\n",
    "                     'Lesson Plans','Lens','Briefing', 'Letters', 'Move', 'Well',\n",
    "                     'Reader Center', 'Podcasts','Crosswords & Games',\n",
    "                    'Opinion','Obituaries','Westchester']}"
   ]
  },
  {
   "cell_type": "code",
   "execution_count": 212,
   "metadata": {},
   "outputs": [],
   "source": [
    "#adds a category column\n",
    "nytimes_trans_db['Category']=nytimes_trans_db['Section']"
   ]
  },
  {
   "cell_type": "code",
   "execution_count": 213,
   "metadata": {},
   "outputs": [],
   "source": [
    "#organizes into categories based on Section column\n",
    "for i, row in nytimes_trans_db.iterrows():\n",
    "    for key, value in categories.items():\n",
    "        if row['Category'] in value:\n",
    "            nytimes_trans_db.loc[i,'Category']=key"
   ]
  },
  {
   "cell_type": "code",
   "execution_count": 214,
   "metadata": {},
   "outputs": [],
   "source": [
    "#creates bins for to sort articles by term used\n",
    "terms={'Transgender':['transgender','transgendered', 'transgenderism'],\n",
    "      'Transsexual':['transsexual','transsexuals']}"
   ]
  },
  {
   "cell_type": "code",
   "execution_count": 215,
   "metadata": {},
   "outputs": [],
   "source": [
    "#creates a Term column and organizes based on the main term used\n",
    "nytimes_trans_db['Term']=\"Other\"\n",
    "\n",
    "\n",
    "for i, row in nytimes_trans_db.iterrows():\n",
    "    for key, term in terms.items():\n",
    "        for word in term:\n",
    "            if word in row['Headline'].lower():\n",
    "                nytimes_trans_db.loc[i,'Term']=key\n",
    "            if pd.isnull(row['Subheader'])!=True:\n",
    "                if word in row['Subheader'].lower():\n",
    "                    nytimes_trans_db.loc[i,'Term']=key\n",
    "  "
   ]
  },
  {
   "cell_type": "code",
   "execution_count": 216,
   "metadata": {},
   "outputs": [],
   "source": [
    "nytimes_trans_db.reset_index(inplace=True)\n",
    "nytimes_trans_db_cleaned=nytimes_trans_db[['Date','Category','Section','Headline','Subheader','Term','URL']]"
   ]
  },
  {
   "cell_type": "code",
   "execution_count": 344,
   "metadata": {},
   "outputs": [
    {
     "data": {
      "text/html": [
       "<div>\n",
       "<style scoped>\n",
       "    .dataframe tbody tr th:only-of-type {\n",
       "        vertical-align: middle;\n",
       "    }\n",
       "\n",
       "    .dataframe tbody tr th {\n",
       "        vertical-align: top;\n",
       "    }\n",
       "\n",
       "    .dataframe thead th {\n",
       "        text-align: right;\n",
       "    }\n",
       "</style>\n",
       "<table border=\"1\" class=\"dataframe\">\n",
       "  <thead>\n",
       "    <tr style=\"text-align: right;\">\n",
       "      <th></th>\n",
       "      <th>Date</th>\n",
       "      <th>Category</th>\n",
       "      <th>Section</th>\n",
       "      <th>Headline</th>\n",
       "      <th>Subheader</th>\n",
       "      <th>Term</th>\n",
       "      <th>URL</th>\n",
       "    </tr>\n",
       "  </thead>\n",
       "  <tbody>\n",
       "    <tr>\n",
       "      <th>0</th>\n",
       "      <td>1981-05-22</td>\n",
       "      <td>Arts</td>\n",
       "      <td>Movies</td>\n",
       "      <td>BEVARE! BEVARE! IT'S LUGOSI</td>\n",
       "      <td>Fake case studies of transsexual and transvest...</td>\n",
       "      <td>Transsexual</td>\n",
       "      <td>/1981/05/22/movies/bevare-bevare-it-s-lugosi.h...</td>\n",
       "    </tr>\n",
       "    <tr>\n",
       "      <th>1</th>\n",
       "      <td>1983-04-16</td>\n",
       "      <td>US New</td>\n",
       "      <td>U.S.</td>\n",
       "      <td>TRANSSEXUAL CONVICT WINS</td>\n",
       "      <td>NaN</td>\n",
       "      <td>Transsexual</td>\n",
       "      <td>/1983/04/16/us/transsexual-convict-wins.html?s...</td>\n",
       "    </tr>\n",
       "    <tr>\n",
       "      <th>2</th>\n",
       "      <td>1983-09-27</td>\n",
       "      <td>US New</td>\n",
       "      <td>U.S.</td>\n",
       "      <td>Transsexual Sues for Old Job</td>\n",
       "      <td>NaN</td>\n",
       "      <td>Transsexual</td>\n",
       "      <td>/1983/09/27/us/transsexual-sues-for-old-job.ht...</td>\n",
       "    </tr>\n",
       "    <tr>\n",
       "      <th>3</th>\n",
       "      <td>1983-10-11</td>\n",
       "      <td>US New</td>\n",
       "      <td>U.S.</td>\n",
       "      <td>AROUND THE NATION; Transsexual's Marriage Chal...</td>\n",
       "      <td>NaN</td>\n",
       "      <td>Transsexual</td>\n",
       "      <td>/1983/10/11/us/around-the-nation-transsexual-s...</td>\n",
       "    </tr>\n",
       "    <tr>\n",
       "      <th>4</th>\n",
       "      <td>1983-12-29</td>\n",
       "      <td>US New</td>\n",
       "      <td>U.S.</td>\n",
       "      <td>JUDGE TELLS EASTERN AIRLINES TO REHIRE TRANSSE...</td>\n",
       "      <td>NaN</td>\n",
       "      <td>Transsexual</td>\n",
       "      <td>/1983/12/29/us/judge-tells-eastern-airlines-to...</td>\n",
       "    </tr>\n",
       "    <tr>\n",
       "      <th>...</th>\n",
       "      <td>...</td>\n",
       "      <td>...</td>\n",
       "      <td>...</td>\n",
       "      <td>...</td>\n",
       "      <td>...</td>\n",
       "      <td>...</td>\n",
       "      <td>...</td>\n",
       "    </tr>\n",
       "    <tr>\n",
       "      <th>1637</th>\n",
       "      <td>2021-09-27</td>\n",
       "      <td>Misc</td>\n",
       "      <td>Opinion</td>\n",
       "      <td>The A.C.L.U. Errs on R.B.G.</td>\n",
       "      <td>A bad tweet reveals a rift over gender and rep...</td>\n",
       "      <td>Other</td>\n",
       "      <td>/2021/09/27/opinion/rbg-aclu-abortion.html?sea...</td>\n",
       "    </tr>\n",
       "    <tr>\n",
       "      <th>1638</th>\n",
       "      <td>2021-09-27</td>\n",
       "      <td>World News</td>\n",
       "      <td>Europe</td>\n",
       "      <td>Two transgender women win seats in the next Ge...</td>\n",
       "      <td>The two lawmakers, both from the Green Party, ...</td>\n",
       "      <td>Transgender</td>\n",
       "      <td>/2021/09/27/world/europe/german-parliament-tra...</td>\n",
       "    </tr>\n",
       "    <tr>\n",
       "      <th>1639</th>\n",
       "      <td>2021-09-28</td>\n",
       "      <td>Science</td>\n",
       "      <td>Health</td>\n",
       "      <td>For Transgender Youth, Stigma Is Just One Barr...</td>\n",
       "      <td>Discrimination, delays and systemic hurdles pr...</td>\n",
       "      <td>Transgender</td>\n",
       "      <td>/2021/09/28/health/transgender-health-care.htm...</td>\n",
       "    </tr>\n",
       "    <tr>\n",
       "      <th>1640</th>\n",
       "      <td>2021-10-05</td>\n",
       "      <td>Arts</td>\n",
       "      <td>The Learning Network</td>\n",
       "      <td>Lesson of the Day: ‘Intimate Portraits of Mexi...</td>\n",
       "      <td>In this lesson, students will learn about gend...</td>\n",
       "      <td>Other</td>\n",
       "      <td>/2021/10/05/learning/lesson-of-the-day-intimat...</td>\n",
       "    </tr>\n",
       "    <tr>\n",
       "      <th>1641</th>\n",
       "      <td>2021-10-06</td>\n",
       "      <td>Arts</td>\n",
       "      <td>Television</td>\n",
       "      <td>‘Sex Education’ Gets More Inclusive in Its Int...</td>\n",
       "      <td>With its new nonbinary characters and its scen...</td>\n",
       "      <td>Other</td>\n",
       "      <td>/2021/10/06/arts/television/sex-education-seas...</td>\n",
       "    </tr>\n",
       "  </tbody>\n",
       "</table>\n",
       "<p>1642 rows × 7 columns</p>\n",
       "</div>"
      ],
      "text/plain": [
       "           Date    Category               Section  \\\n",
       "0    1981-05-22        Arts                Movies   \n",
       "1    1983-04-16      US New                  U.S.   \n",
       "2    1983-09-27      US New                  U.S.   \n",
       "3    1983-10-11      US New                  U.S.   \n",
       "4    1983-12-29      US New                  U.S.   \n",
       "...         ...         ...                   ...   \n",
       "1637 2021-09-27        Misc               Opinion   \n",
       "1638 2021-09-27  World News                Europe   \n",
       "1639 2021-09-28     Science                Health   \n",
       "1640 2021-10-05        Arts  The Learning Network   \n",
       "1641 2021-10-06        Arts            Television   \n",
       "\n",
       "                                               Headline  \\\n",
       "0                           BEVARE! BEVARE! IT'S LUGOSI   \n",
       "1                              TRANSSEXUAL CONVICT WINS   \n",
       "2                          Transsexual Sues for Old Job   \n",
       "3     AROUND THE NATION; Transsexual's Marriage Chal...   \n",
       "4     JUDGE TELLS EASTERN AIRLINES TO REHIRE TRANSSE...   \n",
       "...                                                 ...   \n",
       "1637                        The A.C.L.U. Errs on R.B.G.   \n",
       "1638  Two transgender women win seats in the next Ge...   \n",
       "1639  For Transgender Youth, Stigma Is Just One Barr...   \n",
       "1640  Lesson of the Day: ‘Intimate Portraits of Mexi...   \n",
       "1641  ‘Sex Education’ Gets More Inclusive in Its Int...   \n",
       "\n",
       "                                              Subheader         Term  \\\n",
       "0     Fake case studies of transsexual and transvest...  Transsexual   \n",
       "1                                                   NaN  Transsexual   \n",
       "2                                                   NaN  Transsexual   \n",
       "3                                                   NaN  Transsexual   \n",
       "4                                                   NaN  Transsexual   \n",
       "...                                                 ...          ...   \n",
       "1637  A bad tweet reveals a rift over gender and rep...        Other   \n",
       "1638  The two lawmakers, both from the Green Party, ...  Transgender   \n",
       "1639  Discrimination, delays and systemic hurdles pr...  Transgender   \n",
       "1640  In this lesson, students will learn about gend...        Other   \n",
       "1641  With its new nonbinary characters and its scen...        Other   \n",
       "\n",
       "                                                    URL  \n",
       "0     /1981/05/22/movies/bevare-bevare-it-s-lugosi.h...  \n",
       "1     /1983/04/16/us/transsexual-convict-wins.html?s...  \n",
       "2     /1983/09/27/us/transsexual-sues-for-old-job.ht...  \n",
       "3     /1983/10/11/us/around-the-nation-transsexual-s...  \n",
       "4     /1983/12/29/us/judge-tells-eastern-airlines-to...  \n",
       "...                                                 ...  \n",
       "1637  /2021/09/27/opinion/rbg-aclu-abortion.html?sea...  \n",
       "1638  /2021/09/27/world/europe/german-parliament-tra...  \n",
       "1639  /2021/09/28/health/transgender-health-care.htm...  \n",
       "1640  /2021/10/05/learning/lesson-of-the-day-intimat...  \n",
       "1641  /2021/10/06/arts/television/sex-education-seas...  \n",
       "\n",
       "[1642 rows x 7 columns]"
      ]
     },
     "execution_count": 344,
     "metadata": {},
     "output_type": "execute_result"
    }
   ],
   "source": [
    "nytimes_trans_db_cleaned"
   ]
  },
  {
   "cell_type": "code",
   "execution_count": 218,
   "metadata": {},
   "outputs": [],
   "source": [
    "#output_to_csv\n",
    "nytimes_trans_db_cleaned.to_csv(\"data/nytimes_trans_1980_2021_cleaned.csv\")"
   ]
  },
  {
   "cell_type": "code",
   "execution_count": null,
   "metadata": {},
   "outputs": [],
   "source": []
  },
  {
   "cell_type": "code",
   "execution_count": null,
   "metadata": {},
   "outputs": [],
   "source": [
    "#####PLOT GRAPHS##########"
   ]
  },
  {
   "cell_type": "code",
   "execution_count": 2,
   "metadata": {},
   "outputs": [],
   "source": [
    "#Opens csv dataframe created above and converts to Date column to datetime\n",
    "nytimes_trans_db_cleaned=pd.read_csv(\"data/nytimes_trans_1980_2021_cleaned.csv\")\n",
    "nytimes_trans_db_cleaned['Date']=pd.to_datetime(nytimes_trans_db_cleaned['Date'])"
   ]
  },
  {
   "cell_type": "code",
   "execution_count": 222,
   "metadata": {},
   "outputs": [],
   "source": [
    "#Groups by Year and Term used\n",
    "by_term_year_db=nytimes_trans_db_cleaned.groupby(['Term',pd.Grouper(key='Date', freq='Y')]).count()"
   ]
  },
  {
   "cell_type": "code",
   "execution_count": 223,
   "metadata": {},
   "outputs": [],
   "source": [
    "#gets data to graph articles that use the term Transsexual and articles that use the term Transgender\n",
    "ts=by_term_year_db.loc['Transsexual','Headline']\n",
    "tg=by_term_year_db.loc['Transgender','Headline']"
   ]
  },
  {
   "cell_type": "code",
   "execution_count": 339,
   "metadata": {},
   "outputs": [
    {
     "data": {
      "image/png": "[encoded data removed]",
      "text/plain": [
       "<Figure size 1080x720 with 1 Axes>"
      ]
     },
     "metadata": {
      "needs_background": "light"
     },
     "output_type": "display_data"
    }
   ],
   "source": [
    "#PLOTS GRAPH 1\n",
    "fig=plt.figure(figsize=(15,10))\n",
    "plt.plot(ts,linewidth=4.0,label=\"Transsexual\")\n",
    "plt.plot(tg,linewidth=4.0, label=\"Transgender\")\n",
    "\n",
    "#Layout\n",
    "fig.suptitle(\"Transgender related articles in New York Times (1980-Present)\", fontsize=24)\n",
    "plt.ylabel (\"Number of Articles\",fontsize=20)\n",
    "plt.xlabel (\"Year\",fontsize=20)\n",
    "plt.xticks(fontsize=16)\n",
    "plt.yticks(fontsize=16)\n",
    "plt.legend(loc='upper left',fontsize='small',title=\"Label Used:\",title_fontsize=\"18\",\n",
    "           bbox_to_anchor=(0.05, 0., 0, .97))\n",
    "plt.grid()\n",
    "\n",
    "#Save\n",
    "plt.savefig('nytimes_trans_graph.png')\n",
    "plt.show()\n"
   ]
  },
  {
   "cell_type": "code",
   "execution_count": 164,
   "metadata": {},
   "outputs": [],
   "source": []
  },
  {
   "cell_type": "code",
   "execution_count": 38,
   "metadata": {},
   "outputs": [],
   "source": [
    "#splices database to compare two time periods: 2000-2005 and 2015-2020\n",
    "nytimes_cat_2000_2005_db=nytimes_trans_db_cleaned.loc[(nytimes_trans_db_cleaned['Date']>='2000-01-01') &\n",
    "                             (nytimes_trans_db_cleaned['Date']<'2005-01-01')]\n",
    "\n",
    "nytimes_cat_2015_2020_db=nytimes_trans_db_cleaned.loc[(nytimes_trans_db_cleaned['Date']>='2015-01-01') &\n",
    "                             (nytimes_trans_db_cleaned['Date']<'2021-01-01')]"
   ]
  },
  {
   "cell_type": "code",
   "execution_count": 39,
   "metadata": {},
   "outputs": [],
   "source": [
    "#Groups two databases by Category\n",
    "by_category_A_db=nytimes_cat_2000_2005_db.groupby(['Category']).count()\n",
    "by_category_B_db=nytimes_cat_2015_2020_db.groupby(['Category']).count()"
   ]
  },
  {
   "cell_type": "code",
   "execution_count": 41,
   "metadata": {},
   "outputs": [
    {
     "data": {
      "image/png": "[encoded data removed]",
      "text/plain": [
       "<Figure size 720x720 with 1 Axes>"
      ]
     },
     "metadata": {},
     "output_type": "display_data"
    }
   ],
   "source": [
    "#Plot Category pie Chart\n",
    "fig2=plt.figure(figsize=(10,10))\n",
    "\n",
    "#Layout\n",
    "plt.title('Transgender Articles by Category (1980-2000)', fontsize=20)\n",
    "plt.rc('font', size=18)   \n",
    "labels=['Arts', 'Life', 'Misc', 'Science', 'Sports',\n",
    "       'US New',  'World News']\n",
    "sizes=by_category_A_db['Headline']\n",
    "colors=['#FFBF00','#40E0D0','#CCCCFF','#DFFF00','#6495ED','#9FE2BF','#FF7F50']\n",
    "explode=(.1,0,0,0,0,0,0)\n",
    "\n",
    "\n",
    "#Plot Graph\n",
    "plt.pie(sizes,explode=explode,colors=colors,labels=labels,autopct='%1.1f%%',textprops={'fontsize': 16})\n",
    "plt.tight_layout()\n",
    "\n",
    "#Save\n",
    "plt.savefig('nytimes_trans_category_pie_A.png')\n",
    "plt.show()"
   ]
  },
  {
   "cell_type": "code",
   "execution_count": 42,
   "metadata": {},
   "outputs": [
    {
     "data": {
      "image/png": "[encoded data removed]",
      "text/plain": [
       "<Figure size 720x720 with 1 Axes>"
      ]
     },
     "metadata": {},
     "output_type": "display_data"
    }
   ],
   "source": [
    "#Plot Category pie Chart\n",
    "fig2=plt.figure(figsize=(10,10))\n",
    "\n",
    "#Layout\n",
    "plt.title('Transgender Articles by Category (2014-2020)', fontsize=20)\n",
    "plt.rc('font', size=18)   \n",
    "labels=labels=['Arts', 'Life', 'Misc', 'Science', 'Sports',\n",
    "       'US New',  'World News']\n",
    "sizes=by_category_B_db['Headline']\n",
    "colors=['#FFBF00','#40E0D0','#CCCCFF','#DFFF00','#6495ED','#9FE2BF','#FF7F50']\n",
    "explode=(.1,0,0,0,0,0,0)\n",
    "\n",
    "\n",
    "#Plot Graph\n",
    "plt.pie(sizes,explode=explode,colors=colors,labels=labels,autopct='%1.1f%%',textprops={'fontsize': 16})\n",
    "plt.tight_layout()\n",
    "\n",
    "#Save\n",
    "plt.savefig('nytimes_trans_category_pie_B.png')\n",
    "plt.show()"
   ]
  },
  {
   "cell_type": "code",
   "execution_count": null,
   "metadata": {},
   "outputs": [],
   "source": []
  }
 ],
 "metadata": {
  "kernelspec": {
   "display_name": "Python [conda env:PythonData] *",
   "language": "python",
   "name": "conda-env-PythonData-py"
  },
  "language_info": {
   "codemirror_mode": {
    "name": "ipython",
    "version": 3
   },
   "file_extension": ".py",
   "mimetype": "text/x-python",
   "name": "python",
   "nbconvert_exporter": "python",
   "pygments_lexer": "ipython3",
   "version": "3.6.10"
  }
 },
 "nbformat": 4,
 "nbformat_minor": 4
}
